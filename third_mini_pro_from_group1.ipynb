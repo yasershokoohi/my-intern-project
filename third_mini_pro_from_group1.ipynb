{
  "nbformat": 4,
  "nbformat_minor": 0,
  "metadata": {
    "colab": {
      "name": "third_mini_pro_from_group1.ipynb",
      "provenance": []
    },
    "kernelspec": {
      "name": "python3",
      "display_name": "Python 3"
    },
    "language_info": {
      "name": "python"
    }
  },
  "cells": [
    {
      "cell_type": "markdown",
      "source": [
        "# **It is not complete yet and I am completing it**"
      ],
      "metadata": {
        "id": "D409qq-cx-sJ"
      }
    },
    {
      "cell_type": "code",
      "execution_count": null,
      "metadata": {
        "colab": {
          "base_uri": "https://localhost:8080/"
        },
        "id": "xLvlinUvYKGR",
        "outputId": "b9cc1531-6256-4355-aa20-b4321f926340"
      },
      "outputs": [
        {
          "output_type": "stream",
          "name": "stdout",
          "text": [
            "Requirement already satisfied: kmeans1d in /usr/local/lib/python3.7/dist-packages (0.3.1)\n"
          ]
        }
      ],
      "source": [
        "import pandas as pd \n",
        "import numpy as np \n",
        "import matplotlib.pyplot as plt\n",
        "%matplotlib inline\n",
        "\n",
        "!pip3 install kmeans1d\n",
        "import seaborn as sns\n",
        "\n",
        "import warnings\n",
        "warnings.filterwarnings(\"ignore\")\n",
        "\n"
      ]
    },
    {
      "cell_type": "code",
      "source": [
        "# Importing the libraries\n",
        "\n",
        "plt.style.use('fivethirtyeight')\n",
        "\n",
        "from sklearn.preprocessing import MinMaxScaler\n",
        "\n",
        "from keras.models import Sequential\n",
        "from keras.layers import Dense, LSTM, Dropout, GRU, Bidirectional\n",
        "#from keras.optimizers import SGD\n",
        "import math\n",
        "from sklearn.metrics import mean_squared_error"
      ],
      "metadata": {
        "id": "nzVz4zAX14YX"
      },
      "execution_count": null,
      "outputs": []
    },
    {
      "cell_type": "markdown",
      "source": [
        "#know we should import yfinance library to extract our bitcoin datas\n",
        "\n",
        "\n"
      ],
      "metadata": {
        "id": "ps09P0P7Yp0X"
      }
    },
    {
      "cell_type": "code",
      "source": [
        "!pip install  yfinance \n",
        "from pandas_datareader import data as pdr\n",
        "\n",
        "import yfinance as yf\n",
        "yf.pdr_override() # <== that's all it takes :-)\n",
        "\n",
        "# download dataframe using pandas_datareader\n",
        "data = pdr.get_data_yahoo(\"BTC-USD\", start=\"2016-01-01\", end=\"2022-5-8\")\n",
        "#BTC-USD\n",
        "#GC=F\n",
        "data.head()"
      ],
      "metadata": {
        "colab": {
          "base_uri": "https://localhost:8080/",
          "height": 481
        },
        "id": "natvQQvlYoTK",
        "outputId": "6c053229-fb8b-467b-864d-412189917728"
      },
      "execution_count": null,
      "outputs": [
        {
          "output_type": "stream",
          "name": "stdout",
          "text": [
            "Requirement already satisfied: yfinance in /usr/local/lib/python3.7/dist-packages (0.1.70)\n",
            "Requirement already satisfied: pandas>=0.24.0 in /usr/local/lib/python3.7/dist-packages (from yfinance) (1.3.5)\n",
            "Requirement already satisfied: multitasking>=0.0.7 in /usr/local/lib/python3.7/dist-packages (from yfinance) (0.0.10)\n",
            "Requirement already satisfied: numpy>=1.15 in /usr/local/lib/python3.7/dist-packages (from yfinance) (1.21.6)\n",
            "Requirement already satisfied: lxml>=4.5.1 in /usr/local/lib/python3.7/dist-packages (from yfinance) (4.8.0)\n",
            "Requirement already satisfied: requests>=2.26 in /usr/local/lib/python3.7/dist-packages (from yfinance) (2.27.1)\n",
            "Requirement already satisfied: pytz>=2017.3 in /usr/local/lib/python3.7/dist-packages (from pandas>=0.24.0->yfinance) (2022.1)\n",
            "Requirement already satisfied: python-dateutil>=2.7.3 in /usr/local/lib/python3.7/dist-packages (from pandas>=0.24.0->yfinance) (2.8.2)\n",
            "Requirement already satisfied: six>=1.5 in /usr/local/lib/python3.7/dist-packages (from python-dateutil>=2.7.3->pandas>=0.24.0->yfinance) (1.15.0)\n",
            "Requirement already satisfied: certifi>=2017.4.17 in /usr/local/lib/python3.7/dist-packages (from requests>=2.26->yfinance) (2021.10.8)\n",
            "Requirement already satisfied: charset-normalizer~=2.0.0 in /usr/local/lib/python3.7/dist-packages (from requests>=2.26->yfinance) (2.0.12)\n",
            "Requirement already satisfied: urllib3<1.27,>=1.21.1 in /usr/local/lib/python3.7/dist-packages (from requests>=2.26->yfinance) (1.24.3)\n",
            "Requirement already satisfied: idna<4,>=2.5 in /usr/local/lib/python3.7/dist-packages (from requests>=2.26->yfinance) (2.10)\n",
            "[*********************100%***********************]  1 of 1 completed\n"
          ]
        },
        {
          "output_type": "execute_result",
          "data": {
            "text/plain": [
              "                  Open        High         Low       Close   Adj Close  \\\n",
              "Date                                                                     \n",
              "2016-01-01  430.721008  436.246002  427.515015  434.334015  434.334015   \n",
              "2016-01-02  434.622009  436.062012  431.869995  433.437988  433.437988   \n",
              "2016-01-03  433.578003  433.743011  424.705994  430.010986  430.010986   \n",
              "2016-01-04  430.061005  434.516998  429.084015  433.091003  433.091003   \n",
              "2016-01-05  433.069000  434.182007  429.675995  431.959991  431.959991   \n",
              "\n",
              "              Volume  \n",
              "Date                  \n",
              "2016-01-01  36278900  \n",
              "2016-01-02  30096600  \n",
              "2016-01-03  39633800  \n",
              "2016-01-04  38477500  \n",
              "2016-01-05  34522600  "
            ],
            "text/html": [
              "\n",
              "  <div id=\"df-ca1f1683-3e31-4825-ae63-fd392f7104af\">\n",
              "    <div class=\"colab-df-container\">\n",
              "      <div>\n",
              "<style scoped>\n",
              "    .dataframe tbody tr th:only-of-type {\n",
              "        vertical-align: middle;\n",
              "    }\n",
              "\n",
              "    .dataframe tbody tr th {\n",
              "        vertical-align: top;\n",
              "    }\n",
              "\n",
              "    .dataframe thead th {\n",
              "        text-align: right;\n",
              "    }\n",
              "</style>\n",
              "<table border=\"1\" class=\"dataframe\">\n",
              "  <thead>\n",
              "    <tr style=\"text-align: right;\">\n",
              "      <th></th>\n",
              "      <th>Open</th>\n",
              "      <th>High</th>\n",
              "      <th>Low</th>\n",
              "      <th>Close</th>\n",
              "      <th>Adj Close</th>\n",
              "      <th>Volume</th>\n",
              "    </tr>\n",
              "    <tr>\n",
              "      <th>Date</th>\n",
              "      <th></th>\n",
              "      <th></th>\n",
              "      <th></th>\n",
              "      <th></th>\n",
              "      <th></th>\n",
              "      <th></th>\n",
              "    </tr>\n",
              "  </thead>\n",
              "  <tbody>\n",
              "    <tr>\n",
              "      <th>2016-01-01</th>\n",
              "      <td>430.721008</td>\n",
              "      <td>436.246002</td>\n",
              "      <td>427.515015</td>\n",
              "      <td>434.334015</td>\n",
              "      <td>434.334015</td>\n",
              "      <td>36278900</td>\n",
              "    </tr>\n",
              "    <tr>\n",
              "      <th>2016-01-02</th>\n",
              "      <td>434.622009</td>\n",
              "      <td>436.062012</td>\n",
              "      <td>431.869995</td>\n",
              "      <td>433.437988</td>\n",
              "      <td>433.437988</td>\n",
              "      <td>30096600</td>\n",
              "    </tr>\n",
              "    <tr>\n",
              "      <th>2016-01-03</th>\n",
              "      <td>433.578003</td>\n",
              "      <td>433.743011</td>\n",
              "      <td>424.705994</td>\n",
              "      <td>430.010986</td>\n",
              "      <td>430.010986</td>\n",
              "      <td>39633800</td>\n",
              "    </tr>\n",
              "    <tr>\n",
              "      <th>2016-01-04</th>\n",
              "      <td>430.061005</td>\n",
              "      <td>434.516998</td>\n",
              "      <td>429.084015</td>\n",
              "      <td>433.091003</td>\n",
              "      <td>433.091003</td>\n",
              "      <td>38477500</td>\n",
              "    </tr>\n",
              "    <tr>\n",
              "      <th>2016-01-05</th>\n",
              "      <td>433.069000</td>\n",
              "      <td>434.182007</td>\n",
              "      <td>429.675995</td>\n",
              "      <td>431.959991</td>\n",
              "      <td>431.959991</td>\n",
              "      <td>34522600</td>\n",
              "    </tr>\n",
              "  </tbody>\n",
              "</table>\n",
              "</div>\n",
              "      <button class=\"colab-df-convert\" onclick=\"convertToInteractive('df-ca1f1683-3e31-4825-ae63-fd392f7104af')\"\n",
              "              title=\"Convert this dataframe to an interactive table.\"\n",
              "              style=\"display:none;\">\n",
              "        \n",
              "  <svg xmlns=\"http://www.w3.org/2000/svg\" height=\"24px\"viewBox=\"0 0 24 24\"\n",
              "       width=\"24px\">\n",
              "    <path d=\"M0 0h24v24H0V0z\" fill=\"none\"/>\n",
              "    <path d=\"M18.56 5.44l.94 2.06.94-2.06 2.06-.94-2.06-.94-.94-2.06-.94 2.06-2.06.94zm-11 1L8.5 8.5l.94-2.06 2.06-.94-2.06-.94L8.5 2.5l-.94 2.06-2.06.94zm10 10l.94 2.06.94-2.06 2.06-.94-2.06-.94-.94-2.06-.94 2.06-2.06.94z\"/><path d=\"M17.41 7.96l-1.37-1.37c-.4-.4-.92-.59-1.43-.59-.52 0-1.04.2-1.43.59L10.3 9.45l-7.72 7.72c-.78.78-.78 2.05 0 2.83L4 21.41c.39.39.9.59 1.41.59.51 0 1.02-.2 1.41-.59l7.78-7.78 2.81-2.81c.8-.78.8-2.07 0-2.86zM5.41 20L4 18.59l7.72-7.72 1.47 1.35L5.41 20z\"/>\n",
              "  </svg>\n",
              "      </button>\n",
              "      \n",
              "  <style>\n",
              "    .colab-df-container {\n",
              "      display:flex;\n",
              "      flex-wrap:wrap;\n",
              "      gap: 12px;\n",
              "    }\n",
              "\n",
              "    .colab-df-convert {\n",
              "      background-color: #E8F0FE;\n",
              "      border: none;\n",
              "      border-radius: 50%;\n",
              "      cursor: pointer;\n",
              "      display: none;\n",
              "      fill: #1967D2;\n",
              "      height: 32px;\n",
              "      padding: 0 0 0 0;\n",
              "      width: 32px;\n",
              "    }\n",
              "\n",
              "    .colab-df-convert:hover {\n",
              "      background-color: #E2EBFA;\n",
              "      box-shadow: 0px 1px 2px rgba(60, 64, 67, 0.3), 0px 1px 3px 1px rgba(60, 64, 67, 0.15);\n",
              "      fill: #174EA6;\n",
              "    }\n",
              "\n",
              "    [theme=dark] .colab-df-convert {\n",
              "      background-color: #3B4455;\n",
              "      fill: #D2E3FC;\n",
              "    }\n",
              "\n",
              "    [theme=dark] .colab-df-convert:hover {\n",
              "      background-color: #434B5C;\n",
              "      box-shadow: 0px 1px 3px 1px rgba(0, 0, 0, 0.15);\n",
              "      filter: drop-shadow(0px 1px 2px rgba(0, 0, 0, 0.3));\n",
              "      fill: #FFFFFF;\n",
              "    }\n",
              "  </style>\n",
              "\n",
              "      <script>\n",
              "        const buttonEl =\n",
              "          document.querySelector('#df-ca1f1683-3e31-4825-ae63-fd392f7104af button.colab-df-convert');\n",
              "        buttonEl.style.display =\n",
              "          google.colab.kernel.accessAllowed ? 'block' : 'none';\n",
              "\n",
              "        async function convertToInteractive(key) {\n",
              "          const element = document.querySelector('#df-ca1f1683-3e31-4825-ae63-fd392f7104af');\n",
              "          const dataTable =\n",
              "            await google.colab.kernel.invokeFunction('convertToInteractive',\n",
              "                                                     [key], {});\n",
              "          if (!dataTable) return;\n",
              "\n",
              "          const docLinkHtml = 'Like what you see? Visit the ' +\n",
              "            '<a target=\"_blank\" href=https://colab.research.google.com/notebooks/data_table.ipynb>data table notebook</a>'\n",
              "            + ' to learn more about interactive tables.';\n",
              "          element.innerHTML = '';\n",
              "          dataTable['output_type'] = 'display_data';\n",
              "          await google.colab.output.renderOutput(dataTable, element);\n",
              "          const docLink = document.createElement('div');\n",
              "          docLink.innerHTML = docLinkHtml;\n",
              "          element.appendChild(docLink);\n",
              "        }\n",
              "      </script>\n",
              "    </div>\n",
              "  </div>\n",
              "  "
            ]
          },
          "metadata": {},
          "execution_count": 3
        }
      ]
    },
    {
      "cell_type": "markdown",
      "source": [
        "#Here we are calculateing Return rate"
      ],
      "metadata": {
        "id": "9BqEGCEvaLXR"
      }
    },
    {
      "cell_type": "code",
      "source": [
        "# Identify the Price variance for the each days\n",
        "# Return = (Close price minus the Open price)/open price \n",
        "# Negative value indicate price has declined for that day and Positive value represent increase in price\n",
        "\n",
        "data['Return'] = ((data[\"Close\"] - data[\"Open\"])/data[\"Open\"])*100\n",
        "\n",
        "print (data.head(10))"
      ],
      "metadata": {
        "colab": {
          "base_uri": "https://localhost:8080/"
        },
        "id": "4GDpk-y9aI5l",
        "outputId": "925f5447-32ee-4de1-e117-06f96b6c4551"
      },
      "execution_count": null,
      "outputs": [
        {
          "output_type": "stream",
          "name": "stdout",
          "text": [
            "                  Open        High         Low       Close   Adj Close  \\\n",
            "Date                                                                     \n",
            "2016-01-01  430.721008  436.246002  427.515015  434.334015  434.334015   \n",
            "2016-01-02  434.622009  436.062012  431.869995  433.437988  433.437988   \n",
            "2016-01-03  433.578003  433.743011  424.705994  430.010986  430.010986   \n",
            "2016-01-04  430.061005  434.516998  429.084015  433.091003  433.091003   \n",
            "2016-01-05  433.069000  434.182007  429.675995  431.959991  431.959991   \n",
            "2016-01-06  431.855988  431.855988  426.341003  429.105011  429.105011   \n",
            "2016-01-07  430.010986  458.765991  429.076996  458.048004  458.048004   \n",
            "2016-01-08  457.537994  462.933990  447.937988  453.230011  453.230011   \n",
            "2016-01-09  453.382996  454.640015  446.889008  447.610992  447.610992   \n",
            "2016-01-10  448.238007  448.308990  440.351013  447.990997  447.990997   \n",
            "\n",
            "              Volume    Return  \n",
            "Date                            \n",
            "2016-01-01  36278900  0.838828  \n",
            "2016-01-02  30096600 -0.272425  \n",
            "2016-01-03  39633800 -0.822693  \n",
            "2016-01-04  38477500  0.704551  \n",
            "2016-01-05  34522600 -0.256081  \n",
            "2016-01-06  34042500 -0.637012  \n",
            "2016-01-07  87562200  6.520070  \n",
            "2016-01-08  56993000 -0.941558  \n",
            "2016-01-09  32278000 -1.273097  \n",
            "2016-01-10  35995900 -0.055107  \n"
          ]
        }
      ]
    },
    {
      "cell_type": "code",
      "source": [
        "data[\"High\"]['2016':].plot(figsize=(20,8),legend=True)\n",
        "data[\"Low\"]['2016':].plot(figsize=(20,8),legend=True)\n",
        "\n",
        "\n",
        "plt.title('bitcoin price')\n",
        "plt.show()"
      ],
      "metadata": {
        "id": "f_3KQgQM9kzR",
        "outputId": "bbdae121-3297-492a-9b56-7e2b59c2907e",
        "colab": {
          "base_uri": "https://localhost:8080/",
          "height": 558
        }
      },
      "execution_count": null,
      "outputs": [
        {
          "output_type": "display_data",
          "data": {
            "text/plain": [
              "<Figure size 1440x576 with 1 Axes>"
            ],
            "image/png": "[encoded data removed]"
          },
          "metadata": {}
        }
      ]
    },
    {
      "cell_type": "markdown",
      "source": [
        "# know we are clustering bitcoins return rat data"
      ],
      "metadata": {
        "id": "3XT2ZsLjaqGe"
      }
    },
    {
      "cell_type": "code",
      "source": [
        "import kmeans1d\n",
        "\n",
        "k = 3\n",
        "\n",
        "clusters, centroids = kmeans1d.cluster(data['Return'], k)\n",
        "\n",
        "print(clusters)  \n",
        "print(centroids) "
      ],
      "metadata": {
        "colab": {
          "base_uri": "https://localhost:8080/"
        },
        "id": "A_gw3L56ald_",
        "outputId": "b5429c66-6298-465e-e635-a419d980534c"
      },
      "execution_count": null,
      "outputs": [
        {
          "output_type": "stream",
          "name": "stdout",
          "text": [
            "[1, 1, 1, 1, 1, 1, 2, 1, 1, 1, 1, 1, 1, 1, 0, 2, 1, 1, 1, 2, 1, 0, 1, 2, 1, 1, 1, 0, 1, 1, 1, 1, 1, 1, 2, 1, 1, 1, 1, 1, 1, 1, 1, 1, 2, 1, 1, 1, 1, 1, 2, 1, 1, 0, 1, 1, 1, 1, 1, 1, 1, 1, 1, 1, 1, 1, 1, 1, 1, 1, 1, 1, 1, 1, 1, 1, 1, 1, 1, 1, 1, 1, 1, 1, 1, 1, 1, 1, 1, 1, 1, 1, 1, 1, 1, 1, 1, 1, 1, 1, 1, 1, 1, 1, 1, 1, 1, 1, 1, 1, 1, 1, 1, 1, 1, 1, 1, 0, 1, 1, 1, 1, 1, 1, 1, 1, 1, 1, 1, 1, 1, 1, 1, 1, 1, 1, 1, 1, 1, 0, 1, 1, 1, 1, 1, 1, 1, 2, 2, 1, 1, 1, 1, 1, 2, 1, 1, 1, 1, 1, 1, 1, 2, 2, 2, 1, 1, 2, 1, 1, 1, 0, 0, 0, 2, 2, 1, 0, 2, 1, 1, 2, 1, 2, 0, 2, 1, 1, 0, 2, 1, 1, 1, 1, 1, 1, 1, 1, 1, 1, 1, 1, 1, 1, 1, 1, 1, 1, 1, 1, 1, 1, 0, 0, 0, 2, 1, 1, 1, 1, 1, 1, 1, 1, 1, 1, 1, 1, 1, 1, 1, 1, 1, 1, 1, 1, 1, 1, 1, 1, 1, 1, 1, 1, 1, 1, 2, 1, 1, 1, 1, 1, 1, 1, 1, 1, 1, 1, 1, 1, 1, 1, 1, 1, 1, 1, 1, 1, 1, 1, 1, 1, 1, 1, 1, 1, 1, 1, 1, 1, 1, 1, 1, 1, 2, 1, 1, 1, 1, 1, 1, 1, 1, 1, 1, 2, 1, 1, 1, 1, 1, 1, 2, 1, 1, 2, 1, 0, 1, 1, 1, 1, 1, 1, 1, 1, 1, 1, 1, 1, 2, 1, 1, 1, 1, 1, 1, 1, 1, 1, 1, 1, 1, 1, 1, 1, 1, 1, 1, 1, 1, 1, 1, 1, 1, 1, 1, 1, 1, 1, 1, 1, 1, 1, 1, 2, 2, 2, 1, 1, 1, 1, 2, 1, 1, 1, 2, 1, 1, 2, 0, 0, 1, 1, 1, 1, 0, 2, 1, 1, 1, 1, 2, 1, 1, 1, 1, 1, 1, 1, 1, 1, 1, 1, 1, 1, 2, 1, 1, 1, 1, 1, 1, 1, 1, 0, 1, 1, 1, 1, 1, 1, 1, 1, 1, 1, 1, 2, 1, 2, 1, 1, 1, 1, 1, 2, 1, 1, 1, 1, 1, 0, 0, 2, 0, 2, 2, 1, 1, 1, 0, 0, 0, 2, 1, 2, 0, 1, 0, 2, 1, 2, 1, 1, 1, 2, 1, 1, 2, 1, 1, 2, 1, 1, 1, 1, 1, 1, 1, 1, 1, 1, 1, 1, 1, 1, 1, 1, 1, 2, 1, 1, 1, 1, 1, 1, 2, 1, 1, 1, 1, 1, 1, 2, 1, 1, 2, 0, 2, 1, 0, 1, 2, 2, 2, 2, 1, 2, 2, 2, 0, 0, 0, 2, 2, 0, 2, 2, 2, 1, 1, 2, 2, 0, 1, 1, 2, 1, 0, 1, 0, 1, 1, 2, 0, 1, 2, 1, 1, 1, 0, 1, 0, 1, 1, 1, 1, 1, 1, 1, 1, 1, 1, 0, 1, 1, 0, 1, 1, 1, 0, 0, 0, 2, 2, 1, 2, 0, 2, 1, 1, 0, 1, 2, 2, 1, 1, 2, 0, 1, 2, 2, 2, 1, 2, 1, 1, 1, 2, 2, 2, 2, 0, 2, 1, 0, 1, 1, 1, 1, 1, 2, 1, 1, 1, 1, 2, 1, 2, 2, 0, 1, 0, 2, 2, 1, 0, 1, 1, 1, 1, 0, 0, 2, 1, 1, 2, 0, 1, 0, 1, 2, 0, 2, 1, 2, 1, 1, 2, 1, 1, 1, 1, 1, 1, 1, 2, 2, 1, 1, 2, 2, 2, 1, 1, 1, 1, 1, 2, 1, 1, 1, 0, 2, 1, 1, 1, 2, 1, 2, 2, 2, 1, 1, 1, 0, 1, 2, 0, 0, 0, 0, 2, 1, 2, 2, 1, 1, 2, 1, 1, 1, 1, 1, 2, 2, 2, 1, 1, 2, 2, 1, 1, 1, 1, 2, 2, 0, 0, 1, 2, 1, 0, 1, 2, 2, 1, 1, 0, 0, 0, 0, 2, 0, 1, 2, 1, 0, 1, 0, 2, 0, 2, 1, 1, 2, 1, 0, 0, 0, 1, 0, 2, 1, 0, 1, 0, 1, 1, 1, 2, 0, 0, 1, 2, 1, 1, 1, 1, 0, 0, 1, 0, 0, 2, 0, 0, 2, 1, 2, 2, 1, 0, 2, 0, 2, 2, 1, 2, 0, 2, 1, 0, 0, 2, 0, 1, 2, 2, 1, 2, 1, 2, 1, 1, 0, 0, 0, 1, 0, 2, 0, 1, 0, 1, 1, 0, 2, 2, 2, 1, 1, 1, 1, 1, 0, 0, 1, 0, 0, 1, 1, 2, 2, 0, 1, 1, 2, 1, 0, 1, 1, 2, 1, 1, 2, 0, 1, 1, 1, 2, 1, 1, 1, 2, 0, 2, 0, 2, 1, 1, 1, 1, 2, 1, 1, 1, 1, 1, 1, 0, 0, 1, 1, 1, 1, 1, 0, 1, 1, 2, 1, 0, 0, 1, 1, 1, 1, 0, 2, 1, 1, 1, 1, 1, 1, 1, 1, 1, 1, 1, 0, 1, 0, 0, 2, 0, 1, 1, 2, 1, 1, 1, 0, 1, 1, 1, 1, 1, 0, 2, 1, 1, 2, 1, 1, 1, 1, 1, 1, 1, 0, 1, 1, 1, 1, 1, 2, 2, 1, 1, 1, 1, 1, 2, 2, 1, 1, 1, 1, 1, 1, 0, 1, 1, 1, 0, 1, 1, 0, 0, 2, 0, 1, 1, 1, 1, 1, 1, 2, 1, 1, 0, 1, 1, 1, 1, 1, 1, 1, 1, 1, 1, 1, 1, 1, 1, 1, 0, 0, 1, 0, 1, 1, 1, 1, 1, 1, 1, 1, 0, 1, 1, 1, 2, 1, 1, 1, 1, 1, 1, 1, 1, 1, 1, 1, 1, 1, 1, 1, 1, 1, 1, 1, 0, 1, 1, 1, 2, 1, 1, 1, 1, 1, 1, 1, 1, 1, 1, 1, 1, 1, 1, 1, 1, 1, 1, 1, 1, 1, 1, 1, 1, 1, 1, 1, 1, 1, 0, 1, 1, 1, 1, 0, 0, 1, 0, 1, 0, 2, 0, 1, 2, 1, 0, 2, 1, 0, 1, 0, 0, 1, 1, 2, 0, 1, 1, 0, 1, 1, 1, 2, 2, 1, 2, 0, 1, 1, 1, 0, 1, 0, 2, 1, 1, 0, 1, 1, 1, 1, 1, 2, 1, 1, 1, 0, 1, 1, 1, 2, 1, 1, 1, 1, 1, 0, 1, 1, 1, 1, 1, 1, 1, 0, 1, 1, 1, 1, 1, 1, 1, 1, 1, 1, 2, 1, 1, 1, 1, 1, 1, 1, 1, 1, 2, 1, 1, 1, 1, 2, 0, 1, 1, 1, 1, 1, 1, 1, 1, 2, 1, 1, 1, 1, 1, 1, 1, 1, 1, 1, 1, 1, 1, 1, 1, 1, 1, 1, 1, 1, 1, 1, 1, 1, 1, 1, 1, 2, 1, 1, 1, 1, 1, 1, 1, 1, 0, 1, 1, 1, 1, 2, 1, 1, 1, 1, 1, 1, 2, 1, 0, 1, 1, 1, 1, 1, 1, 1, 2, 1, 1, 1, 1, 1, 2, 2, 2, 0, 2, 1, 1, 0, 0, 1, 2, 1, 1, 0, 1, 1, 1, 2, 1, 1, 1, 0, 1, 1, 1, 0, 0, 1, 1, 1, 1, 0, 2, 1, 1, 1, 2, 1, 1, 2, 1, 1, 1, 2, 2, 1, 1, 2, 2, 0, 2, 0, 0, 1, 1, 2, 0, 1, 1, 1, 2, 1, 0, 0, 2, 0, 0, 2, 0, 1, 2, 1, 1, 1, 1, 0, 1, 1, 1, 0, 1, 1, 1, 2, 2, 1, 1, 1, 2, 1, 2, 1, 1, 0, 1, 1, 0, 0, 1, 1, 1, 1, 2, 1, 0, 1, 1, 1, 1, 1, 1, 0, 1, 1, 1, 1, 2, 1, 1, 1, 1, 1, 1, 1, 1, 1, 1, 1, 1, 1, 1, 1, 1, 1, 1, 1, 1, 0, 0, 1, 0, 1, 1, 1, 1, 1, 1, 1, 1, 1, 1, 2, 1, 2, 1, 0, 1, 1, 1, 1, 1, 1, 1, 1, 1, 1, 1, 0, 1, 2, 2, 2, 0, 1, 1, 1, 1, 1, 1, 1, 1, 1, 1, 0, 1, 1, 0, 1, 1, 1, 1, 1, 1, 0, 1, 1, 0, 0, 1, 0, 1, 1, 2, 1, 2, 1, 1, 1, 1, 1, 1, 1, 1, 1, 1, 1, 1, 1, 1, 1, 1, 0, 0, 2, 1, 1, 1, 2, 1, 1, 1, 1, 1, 1, 1, 1, 1, 1, 0, 2, 1, 1, 2, 2, 1, 1, 2, 1, 1, 1, 2, 1, 1, 1, 1, 1, 1, 1, 1, 0, 1, 1, 1, 2, 2, 1, 1, 1, 1, 1, 1, 1, 2, 1, 1, 1, 1, 1, 2, 1, 1, 1, 0, 1, 1, 2, 0, 1, 1, 1, 1, 1, 0, 0, 1, 1, 1, 1, 2, 1, 1, 2, 1, 1, 0, 1, 1, 1, 0, 2, 0, 2, 0, 2, 1, 2, 1, 1, 0, 2, 2, 1, 1, 0, 0, 0, 2, 1, 1, 1, 1, 1, 1, 2, 1, 1, 1, 0, 1, 1, 1, 1, 0, 2, 1, 1, 1, 0, 1, 2, 2, 1, 1, 1, 1, 1, 2, 1, 1, 1, 1, 1, 1, 1, 2, 1, 1, 0, 1, 1, 2, 2, 0, 1, 1, 1, 1, 1, 0, 1, 1, 0, 1, 1, 2, 2, 1, 1, 1, 2, 0, 1, 1, 1, 1, 1, 1, 1, 1, 0, 1, 1, 1, 1, 1, 1, 1, 1, 1, 1, 2, 1, 0, 1, 1, 1, 1, 1, 1, 1, 1, 1, 1, 1, 2, 1, 1, 1, 1, 1, 1, 1, 1, 1, 1, 1, 1, 1, 1, 1, 1, 1, 1, 1, 1, 2, 1, 1, 1, 1, 2, 0, 1, 1, 2, 1, 1, 1, 1, 1, 0, 1, 1, 1, 1, 1, 1, 1, 1, 1, 1, 1, 1, 1, 0, 1, 1, 1, 1, 1, 1, 1, 0, 0, 1, 0, 1, 1, 1, 1, 1, 1, 1, 1, 2, 1, 1, 1, 1, 1, 1, 0, 1, 1, 2, 1, 1, 1, 1, 1, 1, 1, 1, 1, 1, 1, 1, 1, 1, 1, 1, 1, 1, 1, 1, 1, 1, 1, 1, 1, 1, 2, 1, 1, 1, 1, 1, 2, 1, 1, 1, 1, 1, 1, 1, 1, 2, 1, 0, 2, 1, 1, 1, 2, 1, 1, 1, 2, 2, 1, 1, 2, 1, 1, 1, 2, 1, 0, 1, 2, 1, 2, 0, 1, 1, 0, 1, 1, 1, 0, 1, 1, 1, 2, 1, 1, 1, 2, 2, 1, 2, 1, 1, 2, 1, 1, 2, 2, 1, 1, 1, 2, 1, 1, 2, 1, 1, 2, 2, 2, 2, 1, 0, 0, 0, 2, 2, 0, 1, 1, 1, 1, 1, 0, 2, 1, 1, 1, 1, 0, 2, 1, 1, 0, 1, 2, 2, 1, 2, 1, 1, 2, 1, 0, 2, 1, 1, 2, 1, 1, 2, 1, 2, 1, 1, 0, 0, 1, 0, 1, 1, 1, 2, 1, 2, 0, 1, 1, 2, 1, 2, 1, 2, 1, 2, 0, 0, 1, 2, 1, 1, 1, 1, 0, 1, 0, 1, 2, 1, 1, 2, 1, 1, 1, 1, 0, 1, 1, 1, 0, 2, 1, 1, 1, 1, 2, 1, 1, 1, 1, 0, 1, 1, 0, 0, 1, 1, 1, 2, 1, 1, 1, 2, 1, 1, 1, 0, 2, 1, 1, 1, 1, 0, 1, 0, 1, 1, 0, 1, 0, 1, 0, 2, 0, 1, 0, 2, 1, 1, 1, 0, 0, 1, 2, 1, 1, 2, 0, 0, 1, 0, 1, 2, 1, 1, 0, 2, 1, 1, 0, 1, 0, 1, 1, 0, 1, 2, 1, 0, 1, 2, 1, 2, 1, 0, 1, 1, 1, 0, 1, 1, 0, 1, 1, 1, 0, 1, 1, 0, 1, 1, 1, 0, 0, 2, 1, 2, 1, 1, 2, 2, 1, 1, 2, 1, 0, 1, 1, 2, 1, 2, 2, 1, 2, 1, 1, 1, 2, 1, 1, 1, 1, 1, 2, 2, 1, 1, 1, 0, 1, 0, 2, 1, 1, 0, 1, 2, 1, 1, 1, 2, 1, 0, 1, 1, 0, 1, 1, 1, 2, 1, 1, 1, 1, 1, 0, 0, 2, 1, 0, 1, 1, 1, 1, 1, 2, 2, 1, 1, 1, 2, 2, 1, 1, 1, 1, 2, 1, 1, 1, 2, 1, 1, 1, 2, 1, 0, 1, 1, 1, 2, 0, 0, 2, 1, 1, 1, 1, 2, 1, 1, 1, 1, 1, 2, 1, 0, 1, 1, 1, 1, 0, 0, 1, 0, 1, 1, 1, 0, 1, 1, 1, 0, 1, 2, 1, 1, 1, 1, 0, 0, 1, 1, 1, 1, 0, 1, 2, 1, 0, 1, 1, 1, 0, 1, 1, 1, 2, 1, 2, 1, 1, 1, 1, 0, 1, 1, 1, 1, 1, 1, 1, 0, 1, 0, 1, 1, 1, 1, 1, 0, 1, 1, 1, 1, 1, 1, 1, 0, 0, 2, 1, 1, 1, 1, 1, 1, 1, 1, 1, 0, 1, 2, 1, 1, 2, 1, 1, 1, 1, 1, 1, 1, 2, 1, 0, 1, 1, 0, 0, 2, 1, 1, 1, 1, 0, 2, 1, 1, 0, 0, 1, 1, 1, 1, 2, 0, 1, 1, 1, 2, 1, 2, 1, 1, 1, 1, 1, 1, 1, 1, 1, 1, 2, 1, 1, 1, 0, 1, 1, 1, 1, 1, 0, 1, 1, 1, 1, 0, 1, 1, 0, 1, 1, 1, 1, 1, 1, 1, 1, 1, 1, 1, 0, 1, 1, 0, 1, 1, 1, 1, 2, 0, 1, 1, 0]\n",
            "[-5.959978326752076, 0.1549737764562765, 6.161740938871621]\n"
          ]
        }
      ]
    },
    {
      "cell_type": "code",
      "source": [
        "data['clusters']= clusters\n",
        "\n",
        "data.head()"
      ],
      "metadata": {
        "colab": {
          "base_uri": "https://localhost:8080/",
          "height": 238
        },
        "id": "qgpxd--pa9yP",
        "outputId": "6dd28863-8464-4958-90ec-eb69e59e6473"
      },
      "execution_count": null,
      "outputs": [
        {
          "output_type": "execute_result",
          "data": {
            "text/plain": [
              "                  Open        High         Low       Close   Adj Close  \\\n",
              "Date                                                                     \n",
              "2016-01-01  430.721008  436.246002  427.515015  434.334015  434.334015   \n",
              "2016-01-02  434.622009  436.062012  431.869995  433.437988  433.437988   \n",
              "2016-01-03  433.578003  433.743011  424.705994  430.010986  430.010986   \n",
              "2016-01-04  430.061005  434.516998  429.084015  433.091003  433.091003   \n",
              "2016-01-05  433.069000  434.182007  429.675995  431.959991  431.959991   \n",
              "\n",
              "              Volume    Return  clusters  \n",
              "Date                                      \n",
              "2016-01-01  36278900  0.838828         1  \n",
              "2016-01-02  30096600 -0.272425         1  \n",
              "2016-01-03  39633800 -0.822693         1  \n",
              "2016-01-04  38477500  0.704551         1  \n",
              "2016-01-05  34522600 -0.256081         1  "
            ],
            "text/html": [
              "\n",
              "  <div id=\"df-27c9e29a-caa1-43d8-9f8b-4583d2ff4198\">\n",
              "    <div class=\"colab-df-container\">\n",
              "      <div>\n",
              "<style scoped>\n",
              "    .dataframe tbody tr th:only-of-type {\n",
              "        vertical-align: middle;\n",
              "    }\n",
              "\n",
              "    .dataframe tbody tr th {\n",
              "        vertical-align: top;\n",
              "    }\n",
              "\n",
              "    .dataframe thead th {\n",
              "        text-align: right;\n",
              "    }\n",
              "</style>\n",
              "<table border=\"1\" class=\"dataframe\">\n",
              "  <thead>\n",
              "    <tr style=\"text-align: right;\">\n",
              "      <th></th>\n",
              "      <th>Open</th>\n",
              "      <th>High</th>\n",
              "      <th>Low</th>\n",
              "      <th>Close</th>\n",
              "      <th>Adj Close</th>\n",
              "      <th>Volume</th>\n",
              "      <th>Return</th>\n",
              "      <th>clusters</th>\n",
              "    </tr>\n",
              "    <tr>\n",
              "      <th>Date</th>\n",
              "      <th></th>\n",
              "      <th></th>\n",
              "      <th></th>\n",
              "      <th></th>\n",
              "      <th></th>\n",
              "      <th></th>\n",
              "      <th></th>\n",
              "      <th></th>\n",
              "    </tr>\n",
              "  </thead>\n",
              "  <tbody>\n",
              "    <tr>\n",
              "      <th>2016-01-01</th>\n",
              "      <td>430.721008</td>\n",
              "      <td>436.246002</td>\n",
              "      <td>427.515015</td>\n",
              "      <td>434.334015</td>\n",
              "      <td>434.334015</td>\n",
              "      <td>36278900</td>\n",
              "      <td>0.838828</td>\n",
              "      <td>1</td>\n",
              "    </tr>\n",
              "    <tr>\n",
              "      <th>2016-01-02</th>\n",
              "      <td>434.622009</td>\n",
              "      <td>436.062012</td>\n",
              "      <td>431.869995</td>\n",
              "      <td>433.437988</td>\n",
              "      <td>433.437988</td>\n",
              "      <td>30096600</td>\n",
              "      <td>-0.272425</td>\n",
              "      <td>1</td>\n",
              "    </tr>\n",
              "    <tr>\n",
              "      <th>2016-01-03</th>\n",
              "      <td>433.578003</td>\n",
              "      <td>433.743011</td>\n",
              "      <td>424.705994</td>\n",
              "      <td>430.010986</td>\n",
              "      <td>430.010986</td>\n",
              "      <td>39633800</td>\n",
              "      <td>-0.822693</td>\n",
              "      <td>1</td>\n",
              "    </tr>\n",
              "    <tr>\n",
              "      <th>2016-01-04</th>\n",
              "      <td>430.061005</td>\n",
              "      <td>434.516998</td>\n",
              "      <td>429.084015</td>\n",
              "      <td>433.091003</td>\n",
              "      <td>433.091003</td>\n",
              "      <td>38477500</td>\n",
              "      <td>0.704551</td>\n",
              "      <td>1</td>\n",
              "    </tr>\n",
              "    <tr>\n",
              "      <th>2016-01-05</th>\n",
              "      <td>433.069000</td>\n",
              "      <td>434.182007</td>\n",
              "      <td>429.675995</td>\n",
              "      <td>431.959991</td>\n",
              "      <td>431.959991</td>\n",
              "      <td>34522600</td>\n",
              "      <td>-0.256081</td>\n",
              "      <td>1</td>\n",
              "    </tr>\n",
              "  </tbody>\n",
              "</table>\n",
              "</div>\n",
              "      <button class=\"colab-df-convert\" onclick=\"convertToInteractive('df-27c9e29a-caa1-43d8-9f8b-4583d2ff4198')\"\n",
              "              title=\"Convert this dataframe to an interactive table.\"\n",
              "              style=\"display:none;\">\n",
              "        \n",
              "  <svg xmlns=\"http://www.w3.org/2000/svg\" height=\"24px\"viewBox=\"0 0 24 24\"\n",
              "       width=\"24px\">\n",
              "    <path d=\"M0 0h24v24H0V0z\" fill=\"none\"/>\n",
              "    <path d=\"M18.56 5.44l.94 2.06.94-2.06 2.06-.94-2.06-.94-.94-2.06-.94 2.06-2.06.94zm-11 1L8.5 8.5l.94-2.06 2.06-.94-2.06-.94L8.5 2.5l-.94 2.06-2.06.94zm10 10l.94 2.06.94-2.06 2.06-.94-2.06-.94-.94-2.06-.94 2.06-2.06.94z\"/><path d=\"M17.41 7.96l-1.37-1.37c-.4-.4-.92-.59-1.43-.59-.52 0-1.04.2-1.43.59L10.3 9.45l-7.72 7.72c-.78.78-.78 2.05 0 2.83L4 21.41c.39.39.9.59 1.41.59.51 0 1.02-.2 1.41-.59l7.78-7.78 2.81-2.81c.8-.78.8-2.07 0-2.86zM5.41 20L4 18.59l7.72-7.72 1.47 1.35L5.41 20z\"/>\n",
              "  </svg>\n",
              "      </button>\n",
              "      \n",
              "  <style>\n",
              "    .colab-df-container {\n",
              "      display:flex;\n",
              "      flex-wrap:wrap;\n",
              "      gap: 12px;\n",
              "    }\n",
              "\n",
              "    .colab-df-convert {\n",
              "      background-color: #E8F0FE;\n",
              "      border: none;\n",
              "      border-radius: 50%;\n",
              "      cursor: pointer;\n",
              "      display: none;\n",
              "      fill: #1967D2;\n",
              "      height: 32px;\n",
              "      padding: 0 0 0 0;\n",
              "      width: 32px;\n",
              "    }\n",
              "\n",
              "    .colab-df-convert:hover {\n",
              "      background-color: #E2EBFA;\n",
              "      box-shadow: 0px 1px 2px rgba(60, 64, 67, 0.3), 0px 1px 3px 1px rgba(60, 64, 67, 0.15);\n",
              "      fill: #174EA6;\n",
              "    }\n",
              "\n",
              "    [theme=dark] .colab-df-convert {\n",
              "      background-color: #3B4455;\n",
              "      fill: #D2E3FC;\n",
              "    }\n",
              "\n",
              "    [theme=dark] .colab-df-convert:hover {\n",
              "      background-color: #434B5C;\n",
              "      box-shadow: 0px 1px 3px 1px rgba(0, 0, 0, 0.15);\n",
              "      filter: drop-shadow(0px 1px 2px rgba(0, 0, 0, 0.3));\n",
              "      fill: #FFFFFF;\n",
              "    }\n",
              "  </style>\n",
              "\n",
              "      <script>\n",
              "        const buttonEl =\n",
              "          document.querySelector('#df-27c9e29a-caa1-43d8-9f8b-4583d2ff4198 button.colab-df-convert');\n",
              "        buttonEl.style.display =\n",
              "          google.colab.kernel.accessAllowed ? 'block' : 'none';\n",
              "\n",
              "        async function convertToInteractive(key) {\n",
              "          const element = document.querySelector('#df-27c9e29a-caa1-43d8-9f8b-4583d2ff4198');\n",
              "          const dataTable =\n",
              "            await google.colab.kernel.invokeFunction('convertToInteractive',\n",
              "                                                     [key], {});\n",
              "          if (!dataTable) return;\n",
              "\n",
              "          const docLinkHtml = 'Like what you see? Visit the ' +\n",
              "            '<a target=\"_blank\" href=https://colab.research.google.com/notebooks/data_table.ipynb>data table notebook</a>'\n",
              "            + ' to learn more about interactive tables.';\n",
              "          element.innerHTML = '';\n",
              "          dataTable['output_type'] = 'display_data';\n",
              "          await google.colab.output.renderOutput(dataTable, element);\n",
              "          const docLink = document.createElement('div');\n",
              "          docLink.innerHTML = docLinkHtml;\n",
              "          element.appendChild(docLink);\n",
              "        }\n",
              "      </script>\n",
              "    </div>\n",
              "  </div>\n",
              "  "
            ]
          },
          "metadata": {},
          "execution_count": 7
        }
      ]
    },
    {
      "cell_type": "markdown",
      "source": [
        "# but we can see that these tree clusters are imbalance and if we want to solve this problem we have some solutions."
      ],
      "metadata": {
        "id": "nk2C16e-b7ru"
      }
    },
    {
      "cell_type": "code",
      "source": [
        "# visualize the target variable\n",
        "\n",
        "g = sns.countplot(data['clusters'])\n",
        "g.set_xticklabels(['nagative','zero','positive'])\n",
        "plt.show()"
      ],
      "metadata": {
        "colab": {
          "base_uri": "https://localhost:8080/",
          "height": 304
        },
        "id": "JUjBnOQabGk3",
        "outputId": "1b4213b5-bd64-45e4-eaa0-0ae5f39c7a31"
      },
      "execution_count": null,
      "outputs": [
        {
          "output_type": "display_data",
          "data": {
            "text/plain": [
              "<Figure size 432x288 with 1 Axes>"
            ],
            "image/png": "[encoded data removed]"
          },
          "metadata": {}
        }
      ]
    },
    {
      "cell_type": "code",
      "source": [
        "from sklearn.model_selection import train_test_split\n",
        "\n",
        "\n",
        "from sklearn.metrics import accuracy_score"
      ],
      "metadata": {
        "id": "v4vx6IrDGz3k"
      },
      "execution_count": null,
      "outputs": []
    },
    {
      "cell_type": "code",
      "source": [
        "from xgboost import XGBClassifier\n",
        "\n",
        "steps = []\n",
        "accuracy = []\n",
        "i = 1\n",
        "\n",
        "\n",
        "for i in range(5,100):\n",
        "  X1 = data.drop(['clusters', 'Adj Close', 'Return'] , axis=1)\n",
        "  Y1 = data ['clusters']\n",
        "\n",
        "\n",
        "  Y1 = Y1.iloc[ -i : -1 ]\n",
        "  X1 = X1.iloc[ -i : -1 ]\n",
        "\n",
        "  X_train , X_test , Y_train , Y_test  =  train_test_split(X1 , Y1 , test_size =0.33)\n",
        "      #X_train, X_test, y_train, y_test = train_test_split(X,Y, test_size=0.33, random_state=42)\n",
        "\n",
        "  xgb_model = XGBClassifier().fit(X_train, Y_train)\n",
        "\n",
        "    # predict\n",
        "  xgb_y_predict = xgb_model.predict(X_test)\n",
        "\n",
        "    # accuracy score\n",
        "  xgb_score = accuracy_score(xgb_y_predict, Y_test)\n",
        "\n",
        "  steps.append(i)\n",
        "\n",
        "  accuracy.append(xgb_score)\n"
      ],
      "metadata": {
        "id": "7zARrYZu7vmB"
      },
      "execution_count": null,
      "outputs": []
    },
    {
      "cell_type": "code",
      "source": [
        "dataclasslist = { 'steps' : steps  , 'accuracy': accuracy}"
      ],
      "metadata": {
        "id": "Noltv25rHR6S"
      },
      "execution_count": null,
      "outputs": []
    },
    {
      "cell_type": "code",
      "source": [
        "dataclass = pd.DataFrame(dataclasslist)\n",
        "\n",
        "dataclass.head()"
      ],
      "metadata": {
        "colab": {
          "base_uri": "https://localhost:8080/",
          "height": 206
        },
        "id": "xk9JuyZuHMW1",
        "outputId": "de975bca-39fd-486e-dbca-7a1086324e2f"
      },
      "execution_count": null,
      "outputs": [
        {
          "output_type": "execute_result",
          "data": {
            "text/plain": [
              "   steps  accuracy\n",
              "0      5  0.500000\n",
              "1      6  0.500000\n",
              "2      7  0.500000\n",
              "3      8  1.000000\n",
              "4      9  0.666667"
            ],
            "text/html": [
              "\n",
              "  <div id=\"df-a90d6b64-6b42-4e0f-8031-dd7b3005a8bc\">\n",
              "    <div class=\"colab-df-container\">\n",
              "      <div>\n",
              "<style scoped>\n",
              "    .dataframe tbody tr th:only-of-type {\n",
              "        vertical-align: middle;\n",
              "    }\n",
              "\n",
              "    .dataframe tbody tr th {\n",
              "        vertical-align: top;\n",
              "    }\n",
              "\n",
              "    .dataframe thead th {\n",
              "        text-align: right;\n",
              "    }\n",
              "</style>\n",
              "<table border=\"1\" class=\"dataframe\">\n",
              "  <thead>\n",
              "    <tr style=\"text-align: right;\">\n",
              "      <th></th>\n",
              "      <th>steps</th>\n",
              "      <th>accuracy</th>\n",
              "    </tr>\n",
              "  </thead>\n",
              "  <tbody>\n",
              "    <tr>\n",
              "      <th>0</th>\n",
              "      <td>5</td>\n",
              "      <td>0.500000</td>\n",
              "    </tr>\n",
              "    <tr>\n",
              "      <th>1</th>\n",
              "      <td>6</td>\n",
              "      <td>0.500000</td>\n",
              "    </tr>\n",
              "    <tr>\n",
              "      <th>2</th>\n",
              "      <td>7</td>\n",
              "      <td>0.500000</td>\n",
              "    </tr>\n",
              "    <tr>\n",
              "      <th>3</th>\n",
              "      <td>8</td>\n",
              "      <td>1.000000</td>\n",
              "    </tr>\n",
              "    <tr>\n",
              "      <th>4</th>\n",
              "      <td>9</td>\n",
              "      <td>0.666667</td>\n",
              "    </tr>\n",
              "  </tbody>\n",
              "</table>\n",
              "</div>\n",
              "      <button class=\"colab-df-convert\" onclick=\"convertToInteractive('df-a90d6b64-6b42-4e0f-8031-dd7b3005a8bc')\"\n",
              "              title=\"Convert this dataframe to an interactive table.\"\n",
              "              style=\"display:none;\">\n",
              "        \n",
              "  <svg xmlns=\"http://www.w3.org/2000/svg\" height=\"24px\"viewBox=\"0 0 24 24\"\n",
              "       width=\"24px\">\n",
              "    <path d=\"M0 0h24v24H0V0z\" fill=\"none\"/>\n",
              "    <path d=\"M18.56 5.44l.94 2.06.94-2.06 2.06-.94-2.06-.94-.94-2.06-.94 2.06-2.06.94zm-11 1L8.5 8.5l.94-2.06 2.06-.94-2.06-.94L8.5 2.5l-.94 2.06-2.06.94zm10 10l.94 2.06.94-2.06 2.06-.94-2.06-.94-.94-2.06-.94 2.06-2.06.94z\"/><path d=\"M17.41 7.96l-1.37-1.37c-.4-.4-.92-.59-1.43-.59-.52 0-1.04.2-1.43.59L10.3 9.45l-7.72 7.72c-.78.78-.78 2.05 0 2.83L4 21.41c.39.39.9.59 1.41.59.51 0 1.02-.2 1.41-.59l7.78-7.78 2.81-2.81c.8-.78.8-2.07 0-2.86zM5.41 20L4 18.59l7.72-7.72 1.47 1.35L5.41 20z\"/>\n",
              "  </svg>\n",
              "      </button>\n",
              "      \n",
              "  <style>\n",
              "    .colab-df-container {\n",
              "      display:flex;\n",
              "      flex-wrap:wrap;\n",
              "      gap: 12px;\n",
              "    }\n",
              "\n",
              "    .colab-df-convert {\n",
              "      background-color: #E8F0FE;\n",
              "      border: none;\n",
              "      border-radius: 50%;\n",
              "      cursor: pointer;\n",
              "      display: none;\n",
              "      fill: #1967D2;\n",
              "      height: 32px;\n",
              "      padding: 0 0 0 0;\n",
              "      width: 32px;\n",
              "    }\n",
              "\n",
              "    .colab-df-convert:hover {\n",
              "      background-color: #E2EBFA;\n",
              "      box-shadow: 0px 1px 2px rgba(60, 64, 67, 0.3), 0px 1px 3px 1px rgba(60, 64, 67, 0.15);\n",
              "      fill: #174EA6;\n",
              "    }\n",
              "\n",
              "    [theme=dark] .colab-df-convert {\n",
              "      background-color: #3B4455;\n",
              "      fill: #D2E3FC;\n",
              "    }\n",
              "\n",
              "    [theme=dark] .colab-df-convert:hover {\n",
              "      background-color: #434B5C;\n",
              "      box-shadow: 0px 1px 3px 1px rgba(0, 0, 0, 0.15);\n",
              "      filter: drop-shadow(0px 1px 2px rgba(0, 0, 0, 0.3));\n",
              "      fill: #FFFFFF;\n",
              "    }\n",
              "  </style>\n",
              "\n",
              "      <script>\n",
              "        const buttonEl =\n",
              "          document.querySelector('#df-a90d6b64-6b42-4e0f-8031-dd7b3005a8bc button.colab-df-convert');\n",
              "        buttonEl.style.display =\n",
              "          google.colab.kernel.accessAllowed ? 'block' : 'none';\n",
              "\n",
              "        async function convertToInteractive(key) {\n",
              "          const element = document.querySelector('#df-a90d6b64-6b42-4e0f-8031-dd7b3005a8bc');\n",
              "          const dataTable =\n",
              "            await google.colab.kernel.invokeFunction('convertToInteractive',\n",
              "                                                     [key], {});\n",
              "          if (!dataTable) return;\n",
              "\n",
              "          const docLinkHtml = 'Like what you see? Visit the ' +\n",
              "            '<a target=\"_blank\" href=https://colab.research.google.com/notebooks/data_table.ipynb>data table notebook</a>'\n",
              "            + ' to learn more about interactive tables.';\n",
              "          element.innerHTML = '';\n",
              "          dataTable['output_type'] = 'display_data';\n",
              "          await google.colab.output.renderOutput(dataTable, element);\n",
              "          const docLink = document.createElement('div');\n",
              "          docLink.innerHTML = docLinkHtml;\n",
              "          element.appendChild(docLink);\n",
              "        }\n",
              "      </script>\n",
              "    </div>\n",
              "  </div>\n",
              "  "
            ]
          },
          "metadata": {},
          "execution_count": 12
        }
      ]
    },
    {
      "cell_type": "code",
      "source": [
        "# plotting the points \n",
        "plt.plot(dataclass['steps'], dataclass['accuracy'] )\n",
        "  \n",
        "# naming the x axis\n",
        "plt.xlabel('steps') #( number of datas which used in test And traian)\n",
        "# naming the y axis\n",
        "plt.ylabel('accuracy')\n",
        "  \n",
        "# giving a title to my graph\n",
        "plt.title('accuracy curve')\n",
        "  \n",
        "# function to show the plot\n",
        "plt.show()"
      ],
      "metadata": {
        "colab": {
          "base_uri": "https://localhost:8080/",
          "height": 325
        },
        "id": "Y2yJpgKXKDL0",
        "outputId": "bb266e45-efd2-448a-c1c7-d79284ab46a5"
      },
      "execution_count": null,
      "outputs": [
        {
          "output_type": "display_data",
          "data": {
            "text/plain": [
              "<Figure size 432x288 with 1 Axes>"
            ],
            "image/png": "[encoded data removed]"
          },
          "metadata": {}
        }
      ]
    },
    {
      "cell_type": "code",
      "source": [
        "# load library\n",
        "from sklearn.svm import SVC\n",
        "\n",
        "steps = []\n",
        "accuracy = []\n",
        "i = 1\n",
        "\n",
        "\n",
        "for i in range(15,100):\n",
        "  X2 = data.drop(['clusters', 'Adj Close', 'Return'] , axis=1)\n",
        "  Y2 = data ['clusters']\n",
        "\n",
        "\n",
        "  Y2 = Y2.iloc[ -i : -1 ]\n",
        "  X2 = X2.iloc[ -i : -1 ]\n",
        "\n",
        "  X_train , X_test , Y_train , Y_test  =  train_test_split(X2 , Y2 , test_size =0.33)\n",
        "      #X_train, X_test, y_train, y_test = train_test_split(X,Y, test_size=0.33, random_state=42)\n",
        "  \n",
        "  svc_model = SVC(class_weight='balanced', probability=True)\n",
        "\n",
        "  svc_model.fit(X_train, Y_train)\n",
        "\n",
        "  svc_predict = svc_model.predict(X_test)\n",
        "\n",
        "    # accuracy score\n",
        "  accuracys = accuracy_score(Y_test, svc_predict)\n",
        "\n",
        "  steps.append(i)\n",
        "\n",
        "  accuracy.append(accuracys)"
      ],
      "metadata": {
        "id": "ABpef8wSPwci"
      },
      "execution_count": null,
      "outputs": []
    },
    {
      "cell_type": "code",
      "source": [
        "dataclasslist = { 'steps' : steps  , 'accuracy': accuracy}\n",
        "\n",
        "dataclass = pd.DataFrame(dataclasslist)\n",
        "\n",
        "dataclass.head()"
      ],
      "metadata": {
        "colab": {
          "base_uri": "https://localhost:8080/",
          "height": 206
        },
        "id": "yvJ1XMwIRP-6",
        "outputId": "072b5e2b-4ac8-459c-b52d-863f6eeb4ccb"
      },
      "execution_count": null,
      "outputs": [
        {
          "output_type": "execute_result",
          "data": {
            "text/plain": [
              "   steps  accuracy\n",
              "0     15  0.200000\n",
              "1     16  0.400000\n",
              "2     17  0.666667\n",
              "3     18  0.166667\n",
              "4     19  0.166667"
            ],
            "text/html": [
              "\n",
              "  <div id=\"df-3a455696-e99b-4401-8080-eaaebdd04ebb\">\n",
              "    <div class=\"colab-df-container\">\n",
              "      <div>\n",
              "<style scoped>\n",
              "    .dataframe tbody tr th:only-of-type {\n",
              "        vertical-align: middle;\n",
              "    }\n",
              "\n",
              "    .dataframe tbody tr th {\n",
              "        vertical-align: top;\n",
              "    }\n",
              "\n",
              "    .dataframe thead th {\n",
              "        text-align: right;\n",
              "    }\n",
              "</style>\n",
              "<table border=\"1\" class=\"dataframe\">\n",
              "  <thead>\n",
              "    <tr style=\"text-align: right;\">\n",
              "      <th></th>\n",
              "      <th>steps</th>\n",
              "      <th>accuracy</th>\n",
              "    </tr>\n",
              "  </thead>\n",
              "  <tbody>\n",
              "    <tr>\n",
              "      <th>0</th>\n",
              "      <td>15</td>\n",
              "      <td>0.200000</td>\n",
              "    </tr>\n",
              "    <tr>\n",
              "      <th>1</th>\n",
              "      <td>16</td>\n",
              "      <td>0.400000</td>\n",
              "    </tr>\n",
              "    <tr>\n",
              "      <th>2</th>\n",
              "      <td>17</td>\n",
              "      <td>0.666667</td>\n",
              "    </tr>\n",
              "    <tr>\n",
              "      <th>3</th>\n",
              "      <td>18</td>\n",
              "      <td>0.166667</td>\n",
              "    </tr>\n",
              "    <tr>\n",
              "      <th>4</th>\n",
              "      <td>19</td>\n",
              "      <td>0.166667</td>\n",
              "    </tr>\n",
              "  </tbody>\n",
              "</table>\n",
              "</div>\n",
              "      <button class=\"colab-df-convert\" onclick=\"convertToInteractive('df-3a455696-e99b-4401-8080-eaaebdd04ebb')\"\n",
              "              title=\"Convert this dataframe to an interactive table.\"\n",
              "              style=\"display:none;\">\n",
              "        \n",
              "  <svg xmlns=\"http://www.w3.org/2000/svg\" height=\"24px\"viewBox=\"0 0 24 24\"\n",
              "       width=\"24px\">\n",
              "    <path d=\"M0 0h24v24H0V0z\" fill=\"none\"/>\n",
              "    <path d=\"M18.56 5.44l.94 2.06.94-2.06 2.06-.94-2.06-.94-.94-2.06-.94 2.06-2.06.94zm-11 1L8.5 8.5l.94-2.06 2.06-.94-2.06-.94L8.5 2.5l-.94 2.06-2.06.94zm10 10l.94 2.06.94-2.06 2.06-.94-2.06-.94-.94-2.06-.94 2.06-2.06.94z\"/><path d=\"M17.41 7.96l-1.37-1.37c-.4-.4-.92-.59-1.43-.59-.52 0-1.04.2-1.43.59L10.3 9.45l-7.72 7.72c-.78.78-.78 2.05 0 2.83L4 21.41c.39.39.9.59 1.41.59.51 0 1.02-.2 1.41-.59l7.78-7.78 2.81-2.81c.8-.78.8-2.07 0-2.86zM5.41 20L4 18.59l7.72-7.72 1.47 1.35L5.41 20z\"/>\n",
              "  </svg>\n",
              "      </button>\n",
              "      \n",
              "  <style>\n",
              "    .colab-df-container {\n",
              "      display:flex;\n",
              "      flex-wrap:wrap;\n",
              "      gap: 12px;\n",
              "    }\n",
              "\n",
              "    .colab-df-convert {\n",
              "      background-color: #E8F0FE;\n",
              "      border: none;\n",
              "      border-radius: 50%;\n",
              "      cursor: pointer;\n",
              "      display: none;\n",
              "      fill: #1967D2;\n",
              "      height: 32px;\n",
              "      padding: 0 0 0 0;\n",
              "      width: 32px;\n",
              "    }\n",
              "\n",
              "    .colab-df-convert:hover {\n",
              "      background-color: #E2EBFA;\n",
              "      box-shadow: 0px 1px 2px rgba(60, 64, 67, 0.3), 0px 1px 3px 1px rgba(60, 64, 67, 0.15);\n",
              "      fill: #174EA6;\n",
              "    }\n",
              "\n",
              "    [theme=dark] .colab-df-convert {\n",
              "      background-color: #3B4455;\n",
              "      fill: #D2E3FC;\n",
              "    }\n",
              "\n",
              "    [theme=dark] .colab-df-convert:hover {\n",
              "      background-color: #434B5C;\n",
              "      box-shadow: 0px 1px 3px 1px rgba(0, 0, 0, 0.15);\n",
              "      filter: drop-shadow(0px 1px 2px rgba(0, 0, 0, 0.3));\n",
              "      fill: #FFFFFF;\n",
              "    }\n",
              "  </style>\n",
              "\n",
              "      <script>\n",
              "        const buttonEl =\n",
              "          document.querySelector('#df-3a455696-e99b-4401-8080-eaaebdd04ebb button.colab-df-convert');\n",
              "        buttonEl.style.display =\n",
              "          google.colab.kernel.accessAllowed ? 'block' : 'none';\n",
              "\n",
              "        async function convertToInteractive(key) {\n",
              "          const element = document.querySelector('#df-3a455696-e99b-4401-8080-eaaebdd04ebb');\n",
              "          const dataTable =\n",
              "            await google.colab.kernel.invokeFunction('convertToInteractive',\n",
              "                                                     [key], {});\n",
              "          if (!dataTable) return;\n",
              "\n",
              "          const docLinkHtml = 'Like what you see? Visit the ' +\n",
              "            '<a target=\"_blank\" href=https://colab.research.google.com/notebooks/data_table.ipynb>data table notebook</a>'\n",
              "            + ' to learn more about interactive tables.';\n",
              "          element.innerHTML = '';\n",
              "          dataTable['output_type'] = 'display_data';\n",
              "          await google.colab.output.renderOutput(dataTable, element);\n",
              "          const docLink = document.createElement('div');\n",
              "          docLink.innerHTML = docLinkHtml;\n",
              "          element.appendChild(docLink);\n",
              "        }\n",
              "      </script>\n",
              "    </div>\n",
              "  </div>\n",
              "  "
            ]
          },
          "metadata": {},
          "execution_count": 15
        }
      ]
    },
    {
      "cell_type": "code",
      "source": [
        "from IPython.core.pylabtools import figsize\n",
        "from numpy.core.fromnumeric import size\n",
        "# plotting the points \n",
        "plt.plot(dataclass['steps'], dataclass['accuracy'] )\n",
        "  \n",
        "# naming the x axis\n",
        "plt.xlabel('steps') #( number of datas which used in test And traian)\n",
        "# naming the y axis\n",
        "plt.ylabel('accuracy')\n",
        "  \n",
        "# giving a title to my graph\n",
        "plt.title('accuracy curve')\n",
        "  \n",
        "# function to show the plot\n",
        "plt.show()"
      ],
      "metadata": {
        "colab": {
          "base_uri": "https://localhost:8080/",
          "height": 325
        },
        "id": "w1BjGpmgRWRp",
        "outputId": "d77da330-ff28-4733-d7c1-f51a07ffbae4"
      },
      "execution_count": null,
      "outputs": [
        {
          "output_type": "display_data",
          "data": {
            "text/plain": [
              "<Figure size 432x288 with 1 Axes>"
            ],
            "image/png": "[encoded data removed]"
          },
          "metadata": {}
        }
      ]
    },
    {
      "cell_type": "code",
      "source": [
        "from sklearn.ensemble import RandomForestClassifier\n",
        "\n",
        "steps = []\n",
        "accuracy = []\n",
        "i = 1\n",
        "\n",
        "\n",
        "for i in range(15,100):\n",
        "  X3 = data.drop(['clusters', 'Adj Close', 'Return'] , axis=1)\n",
        "  Y3 = data ['clusters']\n",
        "\n",
        "  Y3 = Y3.iloc[ -i : -1 ]\n",
        "  X3 = X3.iloc[ -i : -1 ]\n",
        "\n",
        "  X_train , X_test , Y_train , Y_test  =  train_test_split(X3 , Y3 , test_size =0.33)\n",
        "      #X_train, X_test, y_train, y_test = train_test_split(X,Y, test_size=0.33, random_state=42)\n",
        "  \n",
        "  rfc = RandomForestClassifier()\n",
        "\n",
        "  # fit the predictor and target\n",
        "  rfc.fit(X_train, Y_train)\n",
        "\n",
        "  # predict\n",
        "  rfc_predict = rfc.predict(X_test)# check performance\n",
        "  #print('ROCAUC score:',roc_auc_score(Y_test, rfc_predict))\n",
        "\n",
        "  # accuracy score\n",
        "  accuracys = accuracy_score(Y_test, rfc_predict)\n",
        "\n",
        "  steps.append(i)\n",
        "\n",
        "  accuracy.append(accuracys)"
      ],
      "metadata": {
        "id": "xZxYkL_MR29q"
      },
      "execution_count": null,
      "outputs": []
    },
    {
      "cell_type": "code",
      "source": [
        "dataclasslist = { 'steps' : steps  , 'accuracy': accuracy}\n",
        "\n",
        "dataclass = pd.DataFrame(dataclasslist)\n",
        "\n",
        "dataclass.head()"
      ],
      "metadata": {
        "colab": {
          "base_uri": "https://localhost:8080/",
          "height": 206
        },
        "id": "MimcvfGoUYu-",
        "outputId": "ef4d5f5b-dccd-487f-9826-433e8965f94c"
      },
      "execution_count": null,
      "outputs": [
        {
          "output_type": "execute_result",
          "data": {
            "text/plain": [
              "   steps  accuracy\n",
              "0     15  0.600000\n",
              "1     16  0.200000\n",
              "2     17  0.833333\n",
              "3     18  0.500000\n",
              "4     19  0.833333"
            ],
            "text/html": [
              "\n",
              "  <div id=\"df-75907f88-34a2-4a20-b8b4-304887fb8397\">\n",
              "    <div class=\"colab-df-container\">\n",
              "      <div>\n",
              "<style scoped>\n",
              "    .dataframe tbody tr th:only-of-type {\n",
              "        vertical-align: middle;\n",
              "    }\n",
              "\n",
              "    .dataframe tbody tr th {\n",
              "        vertical-align: top;\n",
              "    }\n",
              "\n",
              "    .dataframe thead th {\n",
              "        text-align: right;\n",
              "    }\n",
              "</style>\n",
              "<table border=\"1\" class=\"dataframe\">\n",
              "  <thead>\n",
              "    <tr style=\"text-align: right;\">\n",
              "      <th></th>\n",
              "      <th>steps</th>\n",
              "      <th>accuracy</th>\n",
              "    </tr>\n",
              "  </thead>\n",
              "  <tbody>\n",
              "    <tr>\n",
              "      <th>0</th>\n",
              "      <td>15</td>\n",
              "      <td>0.600000</td>\n",
              "    </tr>\n",
              "    <tr>\n",
              "      <th>1</th>\n",
              "      <td>16</td>\n",
              "      <td>0.200000</td>\n",
              "    </tr>\n",
              "    <tr>\n",
              "      <th>2</th>\n",
              "      <td>17</td>\n",
              "      <td>0.833333</td>\n",
              "    </tr>\n",
              "    <tr>\n",
              "      <th>3</th>\n",
              "      <td>18</td>\n",
              "      <td>0.500000</td>\n",
              "    </tr>\n",
              "    <tr>\n",
              "      <th>4</th>\n",
              "      <td>19</td>\n",
              "      <td>0.833333</td>\n",
              "    </tr>\n",
              "  </tbody>\n",
              "</table>\n",
              "</div>\n",
              "      <button class=\"colab-df-convert\" onclick=\"convertToInteractive('df-75907f88-34a2-4a20-b8b4-304887fb8397')\"\n",
              "              title=\"Convert this dataframe to an interactive table.\"\n",
              "              style=\"display:none;\">\n",
              "        \n",
              "  <svg xmlns=\"http://www.w3.org/2000/svg\" height=\"24px\"viewBox=\"0 0 24 24\"\n",
              "       width=\"24px\">\n",
              "    <path d=\"M0 0h24v24H0V0z\" fill=\"none\"/>\n",
              "    <path d=\"M18.56 5.44l.94 2.06.94-2.06 2.06-.94-2.06-.94-.94-2.06-.94 2.06-2.06.94zm-11 1L8.5 8.5l.94-2.06 2.06-.94-2.06-.94L8.5 2.5l-.94 2.06-2.06.94zm10 10l.94 2.06.94-2.06 2.06-.94-2.06-.94-.94-2.06-.94 2.06-2.06.94z\"/><path d=\"M17.41 7.96l-1.37-1.37c-.4-.4-.92-.59-1.43-.59-.52 0-1.04.2-1.43.59L10.3 9.45l-7.72 7.72c-.78.78-.78 2.05 0 2.83L4 21.41c.39.39.9.59 1.41.59.51 0 1.02-.2 1.41-.59l7.78-7.78 2.81-2.81c.8-.78.8-2.07 0-2.86zM5.41 20L4 18.59l7.72-7.72 1.47 1.35L5.41 20z\"/>\n",
              "  </svg>\n",
              "      </button>\n",
              "      \n",
              "  <style>\n",
              "    .colab-df-container {\n",
              "      display:flex;\n",
              "      flex-wrap:wrap;\n",
              "      gap: 12px;\n",
              "    }\n",
              "\n",
              "    .colab-df-convert {\n",
              "      background-color: #E8F0FE;\n",
              "      border: none;\n",
              "      border-radius: 50%;\n",
              "      cursor: pointer;\n",
              "      display: none;\n",
              "      fill: #1967D2;\n",
              "      height: 32px;\n",
              "      padding: 0 0 0 0;\n",
              "      width: 32px;\n",
              "    }\n",
              "\n",
              "    .colab-df-convert:hover {\n",
              "      background-color: #E2EBFA;\n",
              "      box-shadow: 0px 1px 2px rgba(60, 64, 67, 0.3), 0px 1px 3px 1px rgba(60, 64, 67, 0.15);\n",
              "      fill: #174EA6;\n",
              "    }\n",
              "\n",
              "    [theme=dark] .colab-df-convert {\n",
              "      background-color: #3B4455;\n",
              "      fill: #D2E3FC;\n",
              "    }\n",
              "\n",
              "    [theme=dark] .colab-df-convert:hover {\n",
              "      background-color: #434B5C;\n",
              "      box-shadow: 0px 1px 3px 1px rgba(0, 0, 0, 0.15);\n",
              "      filter: drop-shadow(0px 1px 2px rgba(0, 0, 0, 0.3));\n",
              "      fill: #FFFFFF;\n",
              "    }\n",
              "  </style>\n",
              "\n",
              "      <script>\n",
              "        const buttonEl =\n",
              "          document.querySelector('#df-75907f88-34a2-4a20-b8b4-304887fb8397 button.colab-df-convert');\n",
              "        buttonEl.style.display =\n",
              "          google.colab.kernel.accessAllowed ? 'block' : 'none';\n",
              "\n",
              "        async function convertToInteractive(key) {\n",
              "          const element = document.querySelector('#df-75907f88-34a2-4a20-b8b4-304887fb8397');\n",
              "          const dataTable =\n",
              "            await google.colab.kernel.invokeFunction('convertToInteractive',\n",
              "                                                     [key], {});\n",
              "          if (!dataTable) return;\n",
              "\n",
              "          const docLinkHtml = 'Like what you see? Visit the ' +\n",
              "            '<a target=\"_blank\" href=https://colab.research.google.com/notebooks/data_table.ipynb>data table notebook</a>'\n",
              "            + ' to learn more about interactive tables.';\n",
              "          element.innerHTML = '';\n",
              "          dataTable['output_type'] = 'display_data';\n",
              "          await google.colab.output.renderOutput(dataTable, element);\n",
              "          const docLink = document.createElement('div');\n",
              "          docLink.innerHTML = docLinkHtml;\n",
              "          element.appendChild(docLink);\n",
              "        }\n",
              "      </script>\n",
              "    </div>\n",
              "  </div>\n",
              "  "
            ]
          },
          "metadata": {},
          "execution_count": 18
        }
      ]
    },
    {
      "cell_type": "code",
      "source": [
        "from IPython.core.pylabtools import figsize\n",
        "from numpy.core.fromnumeric import size\n",
        "# plotting the points \n",
        "plt.plot(dataclass['steps'], dataclass['accuracy'] )\n",
        "  \n",
        "# naming the x axis\n",
        "plt.xlabel('steps') #( number of datas which used in test And traian)\n",
        "# naming the y axis\n",
        "plt.ylabel('accuracy')\n",
        "  \n",
        "# giving a title to my graph\n",
        "plt.title('accuracy curve')\n",
        "  \n",
        "# function to show the plot\n",
        "plt.show()"
      ],
      "metadata": {
        "colab": {
          "base_uri": "https://localhost:8080/",
          "height": 325
        },
        "id": "EjuXt4t6UbMv",
        "outputId": "3780046c-c182-4879-a0d3-84b6c1efe7d9"
      },
      "execution_count": null,
      "outputs": [
        {
          "output_type": "display_data",
          "data": {
            "text/plain": [
              "<Figure size 432x288 with 1 Axes>"
            ],
            "image/png": "[encoded data removed]"
          },
          "metadata": {}
        }
      ]
    },
    {
      "cell_type": "markdown",
      "source": [
        "# As it was observed, the imbalance in the clustered data leads to very high accuracy and very low accuracy in the algorithms, to solve this problem we can use the following methods."
      ],
      "metadata": {
        "id": "MaN1ooL4VJKf"
      }
    },
    {
      "cell_type": "markdown",
      "source": [
        "# **# Resampling Technique**"
      ],
      "metadata": {
        "id": "SSLBByAdWXxg"
      }
    },
    {
      "cell_type": "markdown",
      "source": [
        "# In these methods, due to the increase and decrease of data, we may no longer be able to review recent days because the relevant data may have been deleted.\n",
        "#And given this weakness in this method (of course we are able to predict based on the whole data set) we have to look for another solution to the problem of data imbalance."
      ],
      "metadata": {
        "id": "2mtKKsG44Hp3"
      }
    },
    {
      "cell_type": "markdown",
      "source": [
        "![RESAMPELING.png](data:image/png;base64,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)"
      ],
      "metadata": {
        "id": "r4Zqu9MiWsTm"
      }
    },
    {
      "cell_type": "code",
      "source": [
        "data['clusters'].value_counts()"
      ],
      "metadata": {
        "colab": {
          "base_uri": "https://localhost:8080/"
        },
        "id": "IDygAITW-AR4",
        "outputId": "c7e704d3-bcfc-47e5-a0c0-02341e036e51"
      },
      "execution_count": null,
      "outputs": [
        {
          "output_type": "execute_result",
          "data": {
            "text/plain": [
              "1    1631\n",
              "2     367\n",
              "0     322\n",
              "Name: clusters, dtype: int64"
            ]
          },
          "metadata": {},
          "execution_count": 20
        }
      ]
    },
    {
      "cell_type": "code",
      "source": [
        "# class count\n",
        "class_count_0, class_count_1, class_count_2 = data['clusters'].value_counts()\n",
        "\n",
        "# Separate class\n",
        "class_0 = data[data['clusters'] == 0]\n",
        "class_1 = data[data['clusters'] == 1]# print the shape of the class\n",
        "class_2 = data[data['clusters'] == 2]\n",
        "\n",
        "print('class 0:', class_0.shape)\n",
        "print('class 1:', class_1.shape)\n",
        "print('class 2:', class_2.shape)"
      ],
      "metadata": {
        "colab": {
          "base_uri": "https://localhost:8080/"
        },
        "id": "I-2Epp7vWB0l",
        "outputId": "d3c44014-6f8e-4526-97e6-e53d4b652606"
      },
      "execution_count": null,
      "outputs": [
        {
          "output_type": "stream",
          "name": "stdout",
          "text": [
            "class 0: (322, 8)\n",
            "class 1: (1631, 8)\n",
            "class 2: (367, 8)\n"
          ]
        }
      ]
    },
    {
      "cell_type": "code",
      "source": [
        "class_count_1"
      ],
      "metadata": {
        "colab": {
          "base_uri": "https://localhost:8080/"
        },
        "id": "G4T8bT0u-JuE",
        "outputId": "afded9f0-e36c-4e5d-ac3b-d36cae3a6f82"
      },
      "execution_count": null,
      "outputs": [
        {
          "output_type": "execute_result",
          "data": {
            "text/plain": [
              "367"
            ]
          },
          "metadata": {},
          "execution_count": 22
        }
      ]
    },
    {
      "cell_type": "markdown",
      "source": [
        "# **1. Random Under-Sampling**"
      ],
      "metadata": {
        "id": "J9nRDQUKXZNe"
      }
    },
    {
      "cell_type": "code",
      "source": [
        "class_1_under = class_1.sample(class_count_1,replace=True)\n",
        "\n",
        "test_under = pd.concat([class_0,class_1_under ,class_2], axis=0)\n",
        "\n",
        "print(\"total class of 1 and 2 and 0 :\",test_under['clusters'].value_counts())# plot the count after under-sampeling\n",
        "\n",
        "test_under['clusters'].value_counts().plot(kind='bar', title='count (cluster)')"
      ],
      "metadata": {
        "colab": {
          "base_uri": "https://localhost:8080/",
          "height": 385
        },
        "id": "RpMxfESwXdW8",
        "outputId": "e1d47f29-b7e5-4120-d087-fddc51253cf8"
      },
      "execution_count": null,
      "outputs": [
        {
          "output_type": "stream",
          "name": "stdout",
          "text": [
            "total class of 1 and 2 and 0 : 1    367\n",
            "2    367\n",
            "0    322\n",
            "Name: clusters, dtype: int64\n"
          ]
        },
        {
          "output_type": "execute_result",
          "data": {
            "text/plain": [
              "<matplotlib.axes._subplots.AxesSubplot at 0x7f18ec82d1d0>"
            ]
          },
          "metadata": {},
          "execution_count": 23
        },
        {
          "output_type": "display_data",
          "data": {
            "text/plain": [
              "<Figure size 432x288 with 1 Axes>"
            ],
            "image/png": "[encoded data removed]"
          },
          "metadata": {}
        }
      ]
    },
    {
      "cell_type": "code",
      "source": [
        " #visualize the target variable\n",
        "g = sns.countplot(test_under['clusters'])\n",
        "g.set_xticklabels(['nagative','zero','positive'])\n",
        "plt.show()"
      ],
      "metadata": {
        "colab": {
          "base_uri": "https://localhost:8080/",
          "height": 304
        },
        "id": "EWK9ea0hXwLP",
        "outputId": "dc6658d5-1c6a-4603-e70b-8317094a51ea"
      },
      "execution_count": null,
      "outputs": [
        {
          "output_type": "display_data",
          "data": {
            "text/plain": [
              "<Figure size 432x288 with 1 Axes>"
            ],
            "image/png": "[encoded data removed]"
          },
          "metadata": {}
        }
      ]
    },
    {
      "cell_type": "code",
      "source": [
        "test_under.head()"
      ],
      "metadata": {
        "colab": {
          "base_uri": "https://localhost:8080/",
          "height": 238
        },
        "id": "Hla5PXPhZCJt",
        "outputId": "b7dd060f-9b3a-4b07-ddb3-831987b7cc12"
      },
      "execution_count": null,
      "outputs": [
        {
          "output_type": "execute_result",
          "data": {
            "text/plain": [
              "                  Open        High         Low       Close   Adj Close  \\\n",
              "Date                                                                     \n",
              "2016-01-15  430.255005  430.255005  364.330994  364.330994  364.330994   \n",
              "2016-01-22  409.751007  410.410004  375.282013  382.492004  382.492004   \n",
              "2016-01-28  395.145996  395.502014  379.734985  380.289001  380.289001   \n",
              "2016-02-23  438.255005  439.858002  417.821014  420.735992  420.735992   \n",
              "2016-04-27  466.261993  467.079010  444.134003  444.687012  444.687012   \n",
              "\n",
              "               Volume     Return  clusters  \n",
              "Date                                        \n",
              "2016-01-15  153351008 -15.322079         0  \n",
              "2016-01-22   91546600  -6.652577         0  \n",
              "2016-01-28   59247900  -3.759875         0  \n",
              "2016-02-23   85244896  -3.997447         0  \n",
              "2016-04-27   93564896  -4.627223         0  "
            ],
            "text/html": [
              "\n",
              "  <div id=\"df-5c7a7a95-0009-47ae-bbe1-f414b0979499\">\n",
              "    <div class=\"colab-df-container\">\n",
              "      <div>\n",
              "<style scoped>\n",
              "    .dataframe tbody tr th:only-of-type {\n",
              "        vertical-align: middle;\n",
              "    }\n",
              "\n",
              "    .dataframe tbody tr th {\n",
              "        vertical-align: top;\n",
              "    }\n",
              "\n",
              "    .dataframe thead th {\n",
              "        text-align: right;\n",
              "    }\n",
              "</style>\n",
              "<table border=\"1\" class=\"dataframe\">\n",
              "  <thead>\n",
              "    <tr style=\"text-align: right;\">\n",
              "      <th></th>\n",
              "      <th>Open</th>\n",
              "      <th>High</th>\n",
              "      <th>Low</th>\n",
              "      <th>Close</th>\n",
              "      <th>Adj Close</th>\n",
              "      <th>Volume</th>\n",
              "      <th>Return</th>\n",
              "      <th>clusters</th>\n",
              "    </tr>\n",
              "    <tr>\n",
              "      <th>Date</th>\n",
              "      <th></th>\n",
              "      <th></th>\n",
              "      <th></th>\n",
              "      <th></th>\n",
              "      <th></th>\n",
              "      <th></th>\n",
              "      <th></th>\n",
              "      <th></th>\n",
              "    </tr>\n",
              "  </thead>\n",
              "  <tbody>\n",
              "    <tr>\n",
              "      <th>2016-01-15</th>\n",
              "      <td>430.255005</td>\n",
              "      <td>430.255005</td>\n",
              "      <td>364.330994</td>\n",
              "      <td>364.330994</td>\n",
              "      <td>364.330994</td>\n",
              "      <td>153351008</td>\n",
              "      <td>-15.322079</td>\n",
              "      <td>0</td>\n",
              "    </tr>\n",
              "    <tr>\n",
              "      <th>2016-01-22</th>\n",
              "      <td>409.751007</td>\n",
              "      <td>410.410004</td>\n",
              "      <td>375.282013</td>\n",
              "      <td>382.492004</td>\n",
              "      <td>382.492004</td>\n",
              "      <td>91546600</td>\n",
              "      <td>-6.652577</td>\n",
              "      <td>0</td>\n",
              "    </tr>\n",
              "    <tr>\n",
              "      <th>2016-01-28</th>\n",
              "      <td>395.145996</td>\n",
              "      <td>395.502014</td>\n",
              "      <td>379.734985</td>\n",
              "      <td>380.289001</td>\n",
              "      <td>380.289001</td>\n",
              "      <td>59247900</td>\n",
              "      <td>-3.759875</td>\n",
              "      <td>0</td>\n",
              "    </tr>\n",
              "    <tr>\n",
              "      <th>2016-02-23</th>\n",
              "      <td>438.255005</td>\n",
              "      <td>439.858002</td>\n",
              "      <td>417.821014</td>\n",
              "      <td>420.735992</td>\n",
              "      <td>420.735992</td>\n",
              "      <td>85244896</td>\n",
              "      <td>-3.997447</td>\n",
              "      <td>0</td>\n",
              "    </tr>\n",
              "    <tr>\n",
              "      <th>2016-04-27</th>\n",
              "      <td>466.261993</td>\n",
              "      <td>467.079010</td>\n",
              "      <td>444.134003</td>\n",
              "      <td>444.687012</td>\n",
              "      <td>444.687012</td>\n",
              "      <td>93564896</td>\n",
              "      <td>-4.627223</td>\n",
              "      <td>0</td>\n",
              "    </tr>\n",
              "  </tbody>\n",
              "</table>\n",
              "</div>\n",
              "      <button class=\"colab-df-convert\" onclick=\"convertToInteractive('df-5c7a7a95-0009-47ae-bbe1-f414b0979499')\"\n",
              "              title=\"Convert this dataframe to an interactive table.\"\n",
              "              style=\"display:none;\">\n",
              "        \n",
              "  <svg xmlns=\"http://www.w3.org/2000/svg\" height=\"24px\"viewBox=\"0 0 24 24\"\n",
              "       width=\"24px\">\n",
              "    <path d=\"M0 0h24v24H0V0z\" fill=\"none\"/>\n",
              "    <path d=\"M18.56 5.44l.94 2.06.94-2.06 2.06-.94-2.06-.94-.94-2.06-.94 2.06-2.06.94zm-11 1L8.5 8.5l.94-2.06 2.06-.94-2.06-.94L8.5 2.5l-.94 2.06-2.06.94zm10 10l.94 2.06.94-2.06 2.06-.94-2.06-.94-.94-2.06-.94 2.06-2.06.94z\"/><path d=\"M17.41 7.96l-1.37-1.37c-.4-.4-.92-.59-1.43-.59-.52 0-1.04.2-1.43.59L10.3 9.45l-7.72 7.72c-.78.78-.78 2.05 0 2.83L4 21.41c.39.39.9.59 1.41.59.51 0 1.02-.2 1.41-.59l7.78-7.78 2.81-2.81c.8-.78.8-2.07 0-2.86zM5.41 20L4 18.59l7.72-7.72 1.47 1.35L5.41 20z\"/>\n",
              "  </svg>\n",
              "      </button>\n",
              "      \n",
              "  <style>\n",
              "    .colab-df-container {\n",
              "      display:flex;\n",
              "      flex-wrap:wrap;\n",
              "      gap: 12px;\n",
              "    }\n",
              "\n",
              "    .colab-df-convert {\n",
              "      background-color: #E8F0FE;\n",
              "      border: none;\n",
              "      border-radius: 50%;\n",
              "      cursor: pointer;\n",
              "      display: none;\n",
              "      fill: #1967D2;\n",
              "      height: 32px;\n",
              "      padding: 0 0 0 0;\n",
              "      width: 32px;\n",
              "    }\n",
              "\n",
              "    .colab-df-convert:hover {\n",
              "      background-color: #E2EBFA;\n",
              "      box-shadow: 0px 1px 2px rgba(60, 64, 67, 0.3), 0px 1px 3px 1px rgba(60, 64, 67, 0.15);\n",
              "      fill: #174EA6;\n",
              "    }\n",
              "\n",
              "    [theme=dark] .colab-df-convert {\n",
              "      background-color: #3B4455;\n",
              "      fill: #D2E3FC;\n",
              "    }\n",
              "\n",
              "    [theme=dark] .colab-df-convert:hover {\n",
              "      background-color: #434B5C;\n",
              "      box-shadow: 0px 1px 3px 1px rgba(0, 0, 0, 0.15);\n",
              "      filter: drop-shadow(0px 1px 2px rgba(0, 0, 0, 0.3));\n",
              "      fill: #FFFFFF;\n",
              "    }\n",
              "  </style>\n",
              "\n",
              "      <script>\n",
              "        const buttonEl =\n",
              "          document.querySelector('#df-5c7a7a95-0009-47ae-bbe1-f414b0979499 button.colab-df-convert');\n",
              "        buttonEl.style.display =\n",
              "          google.colab.kernel.accessAllowed ? 'block' : 'none';\n",
              "\n",
              "        async function convertToInteractive(key) {\n",
              "          const element = document.querySelector('#df-5c7a7a95-0009-47ae-bbe1-f414b0979499');\n",
              "          const dataTable =\n",
              "            await google.colab.kernel.invokeFunction('convertToInteractive',\n",
              "                                                     [key], {});\n",
              "          if (!dataTable) return;\n",
              "\n",
              "          const docLinkHtml = 'Like what you see? Visit the ' +\n",
              "            '<a target=\"_blank\" href=https://colab.research.google.com/notebooks/data_table.ipynb>data table notebook</a>'\n",
              "            + ' to learn more about interactive tables.';\n",
              "          element.innerHTML = '';\n",
              "          dataTable['output_type'] = 'display_data';\n",
              "          await google.colab.output.renderOutput(dataTable, element);\n",
              "          const docLink = document.createElement('div');\n",
              "          docLink.innerHTML = docLinkHtml;\n",
              "          element.appendChild(docLink);\n",
              "        }\n",
              "      </script>\n",
              "    </div>\n",
              "  </div>\n",
              "  "
            ]
          },
          "metadata": {},
          "execution_count": 25
        }
      ]
    },
    {
      "cell_type": "code",
      "source": [
        "data.shape"
      ],
      "metadata": {
        "colab": {
          "base_uri": "https://localhost:8080/"
        },
        "id": "6Ip_RTbE2LLS",
        "outputId": "2c50096e-c7db-443e-9a59-409311610b70"
      },
      "execution_count": null,
      "outputs": [
        {
          "output_type": "execute_result",
          "data": {
            "text/plain": [
              "(2320, 8)"
            ]
          },
          "metadata": {},
          "execution_count": 26
        }
      ]
    },
    {
      "cell_type": "code",
      "source": [
        "test_under.shape "
      ],
      "metadata": {
        "colab": {
          "base_uri": "https://localhost:8080/"
        },
        "id": "ukbLllgDahIl",
        "outputId": "a649b3b2-b0e6-4f79-fad7-b80527acd0c0"
      },
      "execution_count": null,
      "outputs": [
        {
          "output_type": "execute_result",
          "data": {
            "text/plain": [
              "(1056, 8)"
            ]
          },
          "metadata": {},
          "execution_count": 27
        }
      ]
    },
    {
      "cell_type": "code",
      "source": [
        "from xgboost import XGBClassifier\n",
        "\n",
        "X1 = test_under.drop(['clusters', 'Adj Close', 'Return'] , axis=1)\n",
        "Y1 = test_under ['clusters']\n",
        "\n",
        "X_train , X_test , Y_train , Y_test  =  train_test_split(X1 , Y1 , test_size =0.33)\n",
        "      #X_train, X_test, y_train, y_test = train_test_split(X,Y, test_size=0.33, random_state=42)\n",
        "xgb_model = XGBClassifier().fit(X_train, Y_train)\n",
        "\n",
        "    # predict\n",
        "xgb_y_predict = xgb_model.predict(X_test)\n",
        "\n",
        "    # accuracy score\n",
        "xgb_score = accuracy_score(xgb_y_predict, Y_test)\n",
        "\n",
        "xgb_score\n"
      ],
      "metadata": {
        "colab": {
          "base_uri": "https://localhost:8080/"
        },
        "id": "AAVG-MmLYADV",
        "outputId": "60833822-c358-4924-b97c-30bdc7186c16"
      },
      "execution_count": null,
      "outputs": [
        {
          "output_type": "execute_result",
          "data": {
            "text/plain": [
              "0.6475644699140402"
            ]
          },
          "metadata": {},
          "execution_count": 28
        }
      ]
    },
    {
      "cell_type": "markdown",
      "source": [
        "# **2. Random Over-Sampling**"
      ],
      "metadata": {
        "id": "D0SF1lHL5iOR"
      }
    },
    {
      "cell_type": "code",
      "source": [
        "class_0_over = class_0.sample(class_count_0, replace=True)\n",
        "class_2_over = class_2.sample(class_count_0, replace=True)\n",
        "\n",
        "test_over = pd.concat([class_0_over, class_1, class_2_over], axis=0)  # \n",
        "\n",
        "print(\"total class of 1 and 0:\",test_over['clusters'].value_counts())# plot the count after under-sampeling\n",
        "test_over['clusters'].value_counts().plot(kind='bar', title='count (target)')"
      ],
      "metadata": {
        "colab": {
          "base_uri": "https://localhost:8080/",
          "height": 385
        },
        "id": "bMNztTo-5lEc",
        "outputId": "2e83f15a-91f0-4644-844b-b116d3a95a85"
      },
      "execution_count": null,
      "outputs": [
        {
          "output_type": "stream",
          "name": "stdout",
          "text": [
            "total class of 1 and 0: 0    1631\n",
            "1    1631\n",
            "2    1631\n",
            "Name: clusters, dtype: int64\n"
          ]
        },
        {
          "output_type": "execute_result",
          "data": {
            "text/plain": [
              "<matplotlib.axes._subplots.AxesSubplot at 0x7f18ec835fd0>"
            ]
          },
          "metadata": {},
          "execution_count": 29
        },
        {
          "output_type": "display_data",
          "data": {
            "text/plain": [
              "<Figure size 432x288 with 1 Axes>"
            ],
            "image/png": "[encoded data removed]"
          },
          "metadata": {}
        }
      ]
    },
    {
      "cell_type": "code",
      "source": [
        "from xgboost import XGBClassifier\n",
        "\n",
        "X1 = test_over.drop(['clusters', 'Adj Close', 'Return'] , axis=1)\n",
        "Y1 = test_over ['clusters']\n",
        "\n",
        "X_train , X_test , Y_train , Y_test  =  train_test_split(X1 , Y1 , test_size =0.33)\n",
        "      #X_train, X_test, y_train, y_test = train_test_split(X,Y, test_size=0.33, random_state=42)\n",
        "xgb_model = XGBClassifier().fit(X_train, Y_train)\n",
        "\n",
        "    # predict\n",
        "xgb_y_predict = xgb_model.predict(X_test)\n",
        "\n",
        "    # accuracy score\n",
        "xgb_score = accuracy_score(xgb_y_predict, Y_test)\n",
        "\n",
        "xgb_score"
      ],
      "metadata": {
        "colab": {
          "base_uri": "https://localhost:8080/"
        },
        "id": "cjKz27rX_Mp7",
        "outputId": "d822f147-54c5-4ac3-d2f4-c0fe6eed1d57"
      },
      "execution_count": null,
      "outputs": [
        {
          "output_type": "execute_result",
          "data": {
            "text/plain": [
              "0.7678018575851393"
            ]
          },
          "metadata": {},
          "execution_count": 30
        }
      ]
    },
    {
      "cell_type": "markdown",
      "source": [
        "**end of these tow methods**"
      ],
      "metadata": {
        "id": "NTJpfIQ9F6ES"
      }
    },
    {
      "cell_type": "markdown",
      "source": [
        "#Neural Networks LSTM"
      ],
      "metadata": {
        "id": "bq6V-TszJsz4"
      }
    },
    {
      "cell_type": "code",
      "source": [
        "from sklearn.model_selection import train_test_split\n",
        "X_train , X_test , Y_train , Y_test  =  train_test_split(X1 , Y1 , test_size =0.33)"
      ],
      "metadata": {
        "id": "PPPCJlFAGAk_"
      },
      "execution_count": null,
      "outputs": []
    },
    {
      "cell_type": "code",
      "source": [
        "print(\"size of training dataset is :\" + str(X_train.shape))\n",
        "print(\"size of test dataset is :\" + str(X_test.shape))"
      ],
      "metadata": {
        "id": "v1IJII8jKGuc",
        "colab": {
          "base_uri": "https://localhost:8080/"
        },
        "outputId": "e154d93a-6eed-4501-d20e-8706c8c6208f"
      },
      "execution_count": null,
      "outputs": [
        {
          "output_type": "stream",
          "name": "stdout",
          "text": [
            "size of training dataset is :(3278, 5)\n",
            "size of test dataset is :(1615, 5)\n"
          ]
        }
      ]
    },
    {
      "cell_type": "code",
      "source": [
        "import scipy.io\n",
        "import numpy as np\n",
        "import matplotlib.pyplot as plt\n",
        "import cv2\n",
        "import keras"
      ],
      "metadata": {
        "id": "UmvKT686NZ2l"
      },
      "execution_count": null,
      "outputs": []
    },
    {
      "cell_type": "code",
      "source": [
        "# The LSTM architecture\n",
        "regressor = Sequential()\n",
        "\n",
        "# First LSTM layer with Dropout regularisation\n",
        "regressor.add(LSTM(units=50, return_sequences=True, input_shape=(X_train.shape[1],1)))\n",
        "regressor.add(Dropout(0.2))\n",
        "# Second LSTM layer\n",
        "regressor.add(LSTM(units=50, return_sequences=True))\n",
        "regressor.add(Dropout(0.2))\n",
        "# Third LSTM layer\n",
        "regressor.add(LSTM(units=50, return_sequences=True))\n",
        "regressor.add(Dropout(0.2))\n",
        "# Fourth LSTM layer\n",
        "regressor.add(LSTM(units=50))\n",
        "regressor.add(Dropout(0.2))\n",
        "# The output layer\n",
        "regressor.add(Dense(units=1))\n",
        "\n",
        "# Compiling the RNN\n",
        "regressor.compile(optimizer='rmsprop',loss='mean_squared_error')\n",
        "# Fitting to the training set\n",
        "a=regressor.fit(X_train,Y_train,epochs=50,batch_size=32)"
      ],
      "metadata": {
        "colab": {
          "base_uri": "https://localhost:8080/"
        },
        "id": "zWpT3mMG0E_J",
        "outputId": "8306ac6a-f866-4f6a-eb6b-9a5992a592bf"
      },
      "execution_count": null,
      "outputs": [
        {
          "output_type": "stream",
          "name": "stdout",
          "text": [
            "Epoch 1/50\n",
            "103/103 [==============================] - 11s 16ms/step - loss: 0.7104\n",
            "Epoch 2/50\n",
            "103/103 [==============================] - 1s 14ms/step - loss: 0.6860\n",
            "Epoch 3/50\n",
            "103/103 [==============================] - 1s 14ms/step - loss: 0.6840\n",
            "Epoch 4/50\n",
            "103/103 [==============================] - 1s 14ms/step - loss: 0.6740\n",
            "Epoch 5/50\n",
            "103/103 [==============================] - 1s 14ms/step - loss: 0.6698\n",
            "Epoch 6/50\n",
            "103/103 [==============================] - 1s 14ms/step - loss: 0.6745\n",
            "Epoch 7/50\n",
            "103/103 [==============================] - 2s 19ms/step - loss: 0.6684\n",
            "Epoch 8/50\n",
            "103/103 [==============================] - 1s 14ms/step - loss: 0.6696\n",
            "Epoch 9/50\n",
            "103/103 [==============================] - 2s 22ms/step - loss: 0.6726\n",
            "Epoch 10/50\n",
            "103/103 [==============================] - 3s 31ms/step - loss: 0.6668\n",
            "Epoch 11/50\n",
            "103/103 [==============================] - 3s 26ms/step - loss: 0.6723\n",
            "Epoch 12/50\n",
            "103/103 [==============================] - 2s 23ms/step - loss: 0.6684\n",
            "Epoch 13/50\n",
            "103/103 [==============================] - 2s 23ms/step - loss: 0.6705\n",
            "Epoch 14/50\n",
            "103/103 [==============================] - 2s 22ms/step - loss: 0.6695\n",
            "Epoch 15/50\n",
            "103/103 [==============================] - 2s 20ms/step - loss: 0.6657\n",
            "Epoch 16/50\n",
            "103/103 [==============================] - 2s 15ms/step - loss: 0.6731\n",
            "Epoch 17/50\n",
            "103/103 [==============================] - 2s 15ms/step - loss: 0.6698\n",
            "Epoch 18/50\n",
            "103/103 [==============================] - 1s 15ms/step - loss: 0.6680\n",
            "Epoch 19/50\n",
            "103/103 [==============================] - 1s 14ms/step - loss: 0.6685\n",
            "Epoch 20/50\n",
            "103/103 [==============================] - 1s 14ms/step - loss: 0.6697\n",
            "Epoch 21/50\n",
            "103/103 [==============================] - 1s 14ms/step - loss: 0.6678\n",
            "Epoch 22/50\n",
            "103/103 [==============================] - 1s 14ms/step - loss: 0.6692\n",
            "Epoch 23/50\n",
            "103/103 [==============================] - 1s 14ms/step - loss: 0.6646\n",
            "Epoch 24/50\n",
            "103/103 [==============================] - 1s 14ms/step - loss: 0.6675\n",
            "Epoch 25/50\n",
            "103/103 [==============================] - 2s 15ms/step - loss: 0.6670\n",
            "Epoch 26/50\n",
            "103/103 [==============================] - 2s 15ms/step - loss: 0.6666\n",
            "Epoch 27/50\n",
            "103/103 [==============================] - 2s 15ms/step - loss: 0.6675\n",
            "Epoch 28/50\n",
            "103/103 [==============================] - 2s 15ms/step - loss: 0.6672\n",
            "Epoch 29/50\n",
            "103/103 [==============================] - 2s 15ms/step - loss: 0.6685\n",
            "Epoch 30/50\n",
            "103/103 [==============================] - 2s 15ms/step - loss: 0.6614\n",
            "Epoch 31/50\n",
            "103/103 [==============================] - 1s 14ms/step - loss: 0.6663\n",
            "Epoch 32/50\n",
            "103/103 [==============================] - 1s 14ms/step - loss: 0.6641\n",
            "Epoch 33/50\n",
            "103/103 [==============================] - 1s 14ms/step - loss: 0.6676\n",
            "Epoch 34/50\n",
            "103/103 [==============================] - 2s 15ms/step - loss: 0.6633\n",
            "Epoch 35/50\n",
            "103/103 [==============================] - 2s 15ms/step - loss: 0.6659\n",
            "Epoch 36/50\n",
            "103/103 [==============================] - 1s 14ms/step - loss: 0.6664\n",
            "Epoch 37/50\n",
            "103/103 [==============================] - 1s 14ms/step - loss: 0.6634\n",
            "Epoch 38/50\n",
            "103/103 [==============================] - 1s 14ms/step - loss: 0.6686\n",
            "Epoch 39/50\n",
            "103/103 [==============================] - 1s 14ms/step - loss: 0.6671\n",
            "Epoch 40/50\n",
            "103/103 [==============================] - 1s 14ms/step - loss: 0.6630\n",
            "Epoch 41/50\n",
            "103/103 [==============================] - 1s 14ms/step - loss: 0.6665\n",
            "Epoch 42/50\n",
            "103/103 [==============================] - 1s 14ms/step - loss: 0.6670\n",
            "Epoch 43/50\n",
            "103/103 [==============================] - 1s 14ms/step - loss: 0.6631\n",
            "Epoch 44/50\n",
            "103/103 [==============================] - 1s 14ms/step - loss: 0.6674\n",
            "Epoch 45/50\n",
            "103/103 [==============================] - 1s 14ms/step - loss: 0.6638\n",
            "Epoch 46/50\n",
            "103/103 [==============================] - 1s 14ms/step - loss: 0.6642\n",
            "Epoch 47/50\n",
            "103/103 [==============================] - 1s 14ms/step - loss: 0.6640\n",
            "Epoch 48/50\n",
            "103/103 [==============================] - 1s 14ms/step - loss: 0.6637\n",
            "Epoch 49/50\n",
            "103/103 [==============================] - 1s 14ms/step - loss: 0.6681\n",
            "Epoch 50/50\n",
            "103/103 [==============================] - 1s 14ms/step - loss: 0.6665\n"
          ]
        }
      ]
    },
    {
      "cell_type": "markdown",
      "source": [
        " **I am looking for a method to solve the problem of data imbalance by weighting the classes ...**  ⏫ ⏫\n",
        "\n",
        " **continues ...**"
      ],
      "metadata": {
        "id": "eAcjmNnuyQM-"
      }
    }
  ]
}